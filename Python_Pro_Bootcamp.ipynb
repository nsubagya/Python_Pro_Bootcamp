{
 "cells": [
  {
   "cell_type": "markdown",
   "id": "ccf801d6-983f-4c05-990d-da80e1ed1e35",
   "metadata": {},
   "source": [
    "# Day 1 print function"
   ]
  },
  {
   "cell_type": "code",
   "execution_count": 63,
   "id": "16bd3c7a-9033-4e4d-aae8-a4c24b1fccb2",
   "metadata": {},
   "outputs": [
    {
     "name": "stdout",
     "output_type": "stream",
     "text": [
      "1. Mix 500g of Flour, 10g Yeast and 300ml Water in a bowl.\n",
      "2. Knead the dough for 10 minutes.\n",
      "3. Add 3g of Salt.\n",
      "4. Leave to rise for 2 hours.\n",
      "5. Bake at 200 degrees C for 30 minutes.\n"
     ]
    }
   ],
   "source": [
    "#print(\"Day 1 - Python Print Function\")\n",
    "#print(\"The function is declared like this:\")\n",
    "print('''1. Mix 500g of Flour, 10g Yeast and 300ml Water in a bowl.\n",
    "2. Knead the dough for 10 minutes.\n",
    "3. Add 3g of Salt.\n",
    "4. Leave to rise for 2 hours.\n",
    "5. Bake at 200 degrees C for 30 minutes.''')"
   ]
  },
  {
   "cell_type": "markdown",
   "id": "91cd8d27-0797-43b0-a2f3-0f5ece2404ba",
   "metadata": {},
   "source": [
    "# Band name generator"
   ]
  },
  {
   "cell_type": "code",
   "execution_count": 107,
   "id": "8cf1e2af-f76d-4dac-a05e-238bf6bacb79",
   "metadata": {},
   "outputs": [],
   "source": [
    "def band_gen(city,pet):\n",
    "    #city=input(\"what is the name of the city you grew up in?\")\n",
    "    #pet=input(\"wht is your pet's name?\")\n",
    "\n",
    "    assert city.strip(), \"City name cannot be empty\"#if city is empty of false assert catch and raise assertion error\n",
    "    assert pet.strip(), \"Pet name cannot be empty\"\n",
    "\n",
    "    return f\"your band name could be: \"+city+\" \"+ pet"
   ]
  },
  {
   "cell_type": "code",
   "execution_count": 108,
   "id": "826accb1-1d1c-4a02-8c14-8499976142eb",
   "metadata": {},
   "outputs": [
    {
     "data": {
      "text/plain": [
       "'your band name could be: Kandy bear'"
      ]
     },
     "execution_count": 108,
     "metadata": {},
     "output_type": "execute_result"
    }
   ],
   "source": [
    "band_gen('Kandy','bear')"
   ]
  },
  {
   "cell_type": "code",
   "execution_count": 141,
   "id": "924facee-6364-4062-b86c-589a439f776c",
   "metadata": {},
   "outputs": [
    {
     "name": "stdout",
     "output_type": "stream",
     "text": [
      "All tests passed successfully!\n"
     ]
    }
   ],
   "source": [
    "def test_band_gen():\n",
    "    # Test with non-empty inputs\n",
    "\n",
    "    assert band_gen(\"New York\", \"Rex\") == \"your band name could be: New York Rex\"\n",
    "    \n",
    "    # Test with empty city\n",
    "    try:\n",
    "        band_gen(\"\", \"Rex\")\n",
    "    except AssertionError as e:\n",
    "        assert str(e) == \"City name cannot be empty\", f\"Unexpected error message: {e}\"\n",
    "    else:\n",
    "        assert False, \"Expected AssertionError not raised\"\n",
    "    \n",
    "    # Test with empty pet\n",
    "    try:\n",
    "        band_gen(\"New York\", \"\")\n",
    "    except AssertionError as e:\n",
    "        assert str(e) == \"Pet name cannot be empty\", f\"Unexpected error message: {e}\"\n",
    "    else:\n",
    "        assert False, \"Expected AssertionError not raised\"\n",
    "\n",
    "    print(\"All tests passed successfully!\")\n",
    "\n",
    "# Run the test\n",
    "test_band_gen()\n"
   ]
  },
  {
   "cell_type": "markdown",
   "id": "5eccb932-5714-4b6c-84b8-88102a7571b3",
   "metadata": {},
   "source": [
    "# Hello world"
   ]
  },
  {
   "cell_type": "code",
   "execution_count": 4,
   "id": "01475a7c-1081-44c0-b951-0c6ac441caa4",
   "metadata": {},
   "outputs": [
    {
     "name": "stdout",
     "output_type": "stream",
     "text": [
      "Hello world!\n"
     ]
    }
   ],
   "source": [
    "print(\"Hello world!\")"
   ]
  },
  {
   "cell_type": "markdown",
   "id": "71a8796f-b25d-4820-8a8a-60e8761356a8",
   "metadata": {},
   "source": [
    "# Print function"
   ]
  },
  {
   "cell_type": "code",
   "execution_count": 5,
   "id": "74648b45-da04-43d3-9fa7-a28f11c03f2f",
   "metadata": {},
   "outputs": [
    {
     "name": "stdout",
     "output_type": "stream",
     "text": [
      "Day 1 - Python Print Function\n",
      "The function is declared like this:\n",
      "print('what to print')\n"
     ]
    }
   ],
   "source": [
    "print(\"Day 1 - Python Print Function\")\n",
    "print(\"The function is declared like this:\")\n",
    "print(\"print('what to print')\")"
   ]
  },
  {
   "cell_type": "code",
   "execution_count": 162,
   "id": "b3f7ee02-a872-4850-b336-8a5f7295a27f",
   "metadata": {},
   "outputs": [
    {
     "name": "stdout",
     "output_type": "stream",
     "text": [
      "Hello World!\n",
      "Hello World!\n",
      "Hello World!\n",
      "\n"
     ]
    }
   ],
   "source": [
    "print(f\"Hello World!\\n\" * 3)"
   ]
  },
  {
   "cell_type": "markdown",
   "id": "6529e7e0-829f-468d-929c-1d52fa18c4a5",
   "metadata": {},
   "source": [
    "# Print"
   ]
  },
  {
   "cell_type": "code",
   "execution_count": 6,
   "id": "e032c2f6-c67c-497d-a1c8-e9567b5efd48",
   "metadata": {},
   "outputs": [
    {
     "name": "stdout",
     "output_type": "stream",
     "text": [
      "Day 1 - Python Print Function\n",
      "The function is declared like this:\n",
      "print('what to print')\n"
     ]
    }
   ],
   "source": [
    "print(\"Day 1 - Python Print Function\")\n",
    "print(\"The function is declared like this:\")\n",
    "print(\"print('what to print')\")"
   ]
  },
  {
   "cell_type": "code",
   "execution_count": 25,
   "id": "5b7ab457-afb2-44c6-96fc-7b8191a78fc1",
   "metadata": {},
   "outputs": [
    {
     "name": "stdout",
     "output_type": "stream",
     "text": [
      "o\n"
     ]
    }
   ],
   "source": [
    "print('Hello'[-1])"
   ]
  },
  {
   "cell_type": "markdown",
   "id": "44eb8024-a7ea-4371-b2a9-2891e581bf13",
   "metadata": {},
   "source": [
    "# Inputs"
   ]
  },
  {
   "cell_type": "code",
   "execution_count": 5,
   "id": "d97ddd56-24d2-4b2a-afaa-18ce1fb65239",
   "metadata": {},
   "outputs": [
    {
     "name": "stdin",
     "output_type": "stream",
     "text": [
      " 1\n",
      " 3\n"
     ]
    },
    {
     "name": "stdout",
     "output_type": "stream",
     "text": [
      "3\n"
     ]
    }
   ],
   "source": [
    "num1 = int(input())\n",
    "num2 = int(input())\n",
    "print(num1*num2)"
   ]
  },
  {
   "cell_type": "markdown",
   "id": "291cbd45-a4aa-49ee-92e0-2334c9275cc5",
   "metadata": {},
   "source": [
    "# Variables"
   ]
  },
  {
   "cell_type": "code",
   "execution_count": 4,
   "id": "6b36da45-5cfa-44b2-9e34-d134c26b601c",
   "metadata": {},
   "outputs": [
    {
     "name": "stdin",
     "output_type": "stream",
     "text": [
      " 1\n",
      " 3\n"
     ]
    },
    {
     "name": "stdout",
     "output_type": "stream",
     "text": [
      "a: 3\n",
      "b: 1\n"
     ]
    }
   ],
   "source": [
    "# There are two variables, a and b from input\n",
    "a = input()\n",
    "b = input()\n",
    "# 🚨 Don't change the code above ☝️\n",
    "####################################\n",
    "# Write your code below this line 👇\n",
    "c=a\n",
    "a=b\n",
    "b=c\n",
    "\n",
    "\n",
    "\n",
    "# 🚨 Don't change the code below 👇\n",
    "print(\"a: \" + a)\n",
    "print(\"b: \" + b)\n"
   ]
  },
  {
   "cell_type": "markdown",
   "id": "0cd30e3f-4d98-4cdb-ba6d-7aa8425d64b0",
   "metadata": {},
   "source": [
    "# Data types"
   ]
  },
  {
   "cell_type": "code",
   "execution_count": 3,
   "id": "c2e6b936-9025-4288-afba-e97cbc71c757",
   "metadata": {},
   "outputs": [
    {
     "name": "stdin",
     "output_type": "stream",
     "text": [
      " 39\n"
     ]
    },
    {
     "name": "stdout",
     "output_type": "stream",
     "text": [
      "12\n"
     ]
    }
   ],
   "source": [
    "two_digit_number = input()\n",
    "# 🚨 Don't change the code above 👆\n",
    "####################################\n",
    "# Write your code below this line 👇\n",
    "#print(int(two_digit_number[0])+int(two_digit_number[1]))\n",
    "count=0\n",
    "for i in two_digit_number:\n",
    "  count+=int(i)\n",
    "\n",
    "print(count)"
   ]
  },
  {
   "cell_type": "markdown",
   "id": "cdc0f09c-baf5-4c45-b297-b0c9f799b002",
   "metadata": {},
   "source": [
    "# BMI"
   ]
  },
  {
   "cell_type": "code",
   "execution_count": 1,
   "id": "1c8bd350-b200-4539-abe4-7f2d30621ba8",
   "metadata": {},
   "outputs": [
    {
     "name": "stdin",
     "output_type": "stream",
     "text": [
      " 1\n",
      " 1\n"
     ]
    },
    {
     "name": "stdout",
     "output_type": "stream",
     "text": [
      "1\n"
     ]
    }
   ],
   "source": [
    "# 1st input: enter height in meters e.g: 1.65\n",
    "height = input()\n",
    "# 2nd input: enter weight in kilograms e.g: 72\n",
    "weight = input()\n",
    "# 🚨 Don't change the code above 👆\n",
    "\n",
    "# Write your code below this line 👇\n",
    "print(int(float(weight)/(float(height)**2)))"
   ]
  },
  {
   "cell_type": "markdown",
   "id": "e05c5ce5-9aaa-4f43-ad9d-764f271e3db0",
   "metadata": {},
   "source": [
    "# Life in weeks"
   ]
  },
  {
   "cell_type": "code",
   "execution_count": 7,
   "id": "b893b164-d7a2-4b6b-aabb-8218bc8ef03c",
   "metadata": {},
   "outputs": [
    {
     "name": "stdin",
     "output_type": "stream",
     "text": [
      " 35\n"
     ]
    },
    {
     "name": "stdout",
     "output_type": "stream",
     "text": [
      "You have 2860 weeks left.\n"
     ]
    }
   ],
   "source": [
    "age = input()\n",
    "# 🚨 Don't change the code above 👆\n",
    "# Write your code below this line 👇\n",
    "print(f\"You have {52*(90-int(age))} weeks left.\")"
   ]
  },
  {
   "cell_type": "markdown",
   "id": "2dd07a54-597a-4d1d-a934-f58b2566a400",
   "metadata": {},
   "source": [
    "# Odd or even?"
   ]
  },
  {
   "cell_type": "code",
   "execution_count": 8,
   "id": "0520c5da-fce0-4c83-ba9b-db1659149f03",
   "metadata": {},
   "outputs": [
    {
     "name": "stdin",
     "output_type": "stream",
     "text": [
      " 4\n"
     ]
    },
    {
     "name": "stdout",
     "output_type": "stream",
     "text": [
      "This is an even number.\n"
     ]
    }
   ],
   "source": [
    "# Which number do you want to check?\n",
    "number = int(input())\n",
    "# 🚨 Don't change the code above 👆\n",
    "\n",
    "# Write your code below this line 👇\n",
    "if number % 2==0:\n",
    "  print('This is an even number.')\n",
    "\n",
    "else:\n",
    "  print('This is an odd number.')"
   ]
  },
  {
   "cell_type": "markdown",
   "id": "14162dce-9bd9-463b-9e56-9c8852e65517",
   "metadata": {},
   "source": [
    "# BMI 2.0"
   ]
  },
  {
   "cell_type": "code",
   "execution_count": 9,
   "id": "67c7329e-d1a8-4b6e-b696-4075709fc9dd",
   "metadata": {},
   "outputs": [
    {
     "name": "stdin",
     "output_type": "stream",
     "text": [
      " 2\n",
      " 3\n"
     ]
    },
    {
     "name": "stdout",
     "output_type": "stream",
     "text": [
      "Your BMI is 0.75, you are underweight.\n"
     ]
    }
   ],
   "source": [
    "# Enter your height in meters e.g., 1.55\n",
    "height = float(input())\n",
    "# Enter your weight in kilograms e.g., 72\n",
    "weight = int(input())\n",
    "# 🚨 Don't change the code above 👆\n",
    "\n",
    "#Write your code below this line 👇\n",
    "BMI=weight/height**2\n",
    "if BMI<18.5:\n",
    "  interprets=\", you are underweight.\"\n",
    "elif 18.5<=BMI<25:\n",
    "  interprets=\", you have a normal weight.\"\n",
    "elif 25<=BMI<30:\n",
    "  interprets=\", you are slightly overweight.\"\n",
    "elif 30<=BMI<35:\n",
    "  interprets=\", you are obese.\"\n",
    "else:\n",
    "  interprets=\", you are clinically obese.\"\n",
    "print(f\"Your BMI is {BMI}{interprets}\")"
   ]
  },
  {
   "cell_type": "markdown",
   "id": "2581e728-2478-4675-8117-f0f7fea9d3f3",
   "metadata": {},
   "source": [
    "# Leap year"
   ]
  },
  {
   "cell_type": "code",
   "execution_count": null,
   "id": "7a1fd9dc-21c6-4f57-97b9-7e4801edf3a3",
   "metadata": {},
   "outputs": [],
   "source": [
    "# Which year do you want to check?\n",
    "year = int(input())\n",
    "\n",
    "if year % 4 == 0:\n",
    "  if year % 100 == 0:\n",
    "    if year % 400 == 0:\n",
    "      print(\"Leap year\")\n",
    "    else:\n",
    "      print(\"Not leap year\")\n",
    "  else:\n",
    "    print(\"Leap year\")\n",
    "else:\n",
    "  print(\"Not leap year\")"
   ]
  },
  {
   "cell_type": "markdown",
   "id": "7add160d-ae37-449c-b845-8af8c2f4cb9b",
   "metadata": {},
   "source": [
    "# Leap year 2.0"
   ]
  },
  {
   "cell_type": "markdown",
   "id": "02426cd9-e439-41a4-a19f-2c4aad2df8c8",
   "metadata": {},
   "source": [
    "on every year that is divisible by 4 with no remainder\n",
    "\n",
    "except every year that is evenly divisible by 100 with no remainder\n",
    "\n",
    "unless the year is also divisible by 400 with no remainder"
   ]
  },
  {
   "cell_type": "code",
   "execution_count": 8,
   "id": "ff04cb9e-4e89-43d6-a23d-fb85c1c47702",
   "metadata": {},
   "outputs": [
    {
     "name": "stdin",
     "output_type": "stream",
     "text": [
      " 3\n"
     ]
    },
    {
     "name": "stdout",
     "output_type": "stream",
     "text": [
      "Not leap year\n"
     ]
    }
   ],
   "source": [
    "# Which year do you want to check?\n",
    "year = int(input())\n",
    "# 🚨 Don't change the code above 👆\n",
    "\n",
    "# Write your code below this line 👇\n",
    "#if x % 400 ==0 means it already x % 4==0 and x % 100 ==0, if x % 4 !=0 means it cant be x % 400 ==0 so it went to else option\n",
    "if (year % 4==0 and year % 100 !=0) or (year % 400 ==0):\n",
    "  print(\"Leap year\")\n",
    "\n",
    "else:\n",
    "  print(\"Not leap year\")"
   ]
  },
  {
   "cell_type": "markdown",
   "id": "f719a1cd-e507-497e-b790-dd686d0fe38d",
   "metadata": {},
   "source": [
    "# Pizza order practice"
   ]
  },
  {
   "cell_type": "code",
   "execution_count": 44,
   "id": "e5dc052a-659d-4110-9058-de8a7dec9fa5",
   "metadata": {},
   "outputs": [
    {
     "name": "stdout",
     "output_type": "stream",
     "text": [
      "Thank you for choosing Python Pizza Deliveries!\n"
     ]
    },
    {
     "name": "stdin",
     "output_type": "stream",
     "text": [
      "What size pizza do you want? S, M, or L s\n",
      "Do you want pepperoni? Y or N y\n",
      "Do you want extra cheese? Y or N y\n"
     ]
    },
    {
     "name": "stdout",
     "output_type": "stream",
     "text": [
      "Your final bill is: $18.\n"
     ]
    }
   ],
   "source": [
    "print(\"Thank you for choosing Python Pizza Deliveries!\")\n",
    "size = input('What size pizza do you want? S, M, or L').upper() # What size pizza do you want? S, M, or L\n",
    "add_pepperoni = input('Do you want pepperoni? Y or N').upper() # Do you want pepperoni? Y or N\n",
    "extra_cheese = input('Do you want extra cheese? Y or N').upper() # Do you want extra cheese? Y or N\n",
    "# 🚨 Don't change the code above 👆\n",
    "# Write your code below this line 👇\n",
    "size_chart=['S', 'M', 'L']\n",
    "Price_chart=[15, 20, 25]\n",
    "add_on=0\n",
    "if add_pepperoni == 'Y':\n",
    "  if size == 'S':\n",
    "    add_on += 2\n",
    "  else:\n",
    "    add_on += 3\n",
    "else:\n",
    "  add_on += 0\n",
    "\n",
    "if extra_cheese == 'Y':\n",
    "  add_on += 1\n",
    "else:\n",
    "  add_on += 0\n",
    "\n",
    "Total_price=Price_chart[size_chart.index(size)]+add_on\n",
    "\n",
    "print(f\"Your final bill is: ${Total_price}.\")"
   ]
  },
  {
   "cell_type": "markdown",
   "id": "5ba39585-6844-4393-a777-5a32735df293",
   "metadata": {},
   "source": [
    "# Pizza order practice 2.0"
   ]
  },
  {
   "cell_type": "code",
   "execution_count": 48,
   "id": "ac548ba0-abcf-4926-b479-b8132648ff3e",
   "metadata": {},
   "outputs": [
    {
     "name": "stdout",
     "output_type": "stream",
     "text": [
      "Thank you for choosing Python Pizza Deliveries!\n"
     ]
    },
    {
     "name": "stdin",
     "output_type": "stream",
     "text": [
      "Enter number of pizza! 2\n"
     ]
    },
    {
     "name": "stdout",
     "output_type": "stream",
     "text": [
      "\n",
      "Enter details for pizza 1:\n"
     ]
    },
    {
     "name": "stdin",
     "output_type": "stream",
     "text": [
      "What size pizza do you want? S, M, or L s\n",
      "Do you want pepperoni? Y or N y\n",
      "Do you want extra cheese? Y or N y\n"
     ]
    },
    {
     "name": "stdout",
     "output_type": "stream",
     "text": [
      "\n",
      "Enter details for pizza 2:\n"
     ]
    },
    {
     "name": "stdin",
     "output_type": "stream",
     "text": [
      "What size pizza do you want? S, M, or L s\n",
      "Do you want pepperoni? Y or N y\n",
      "Do you want extra cheese? Y or N y\n"
     ]
    },
    {
     "name": "stdout",
     "output_type": "stream",
     "text": [
      "\n",
      "Pizza 1.\n",
      "Size:  S \n",
      "Pepperoni:  Y \n",
      "Extra cheese:  Y\n",
      "Your total for pizza 1 is $18\n",
      "\n",
      "Pizza 2.\n",
      "Size:  S \n",
      "Pepperoni:  Y \n",
      "Extra cheese:  Y\n",
      "Your total for pizza 2 is $18\n",
      "\n",
      "Your final bill is: $36.\n"
     ]
    }
   ],
   "source": [
    "def pizza_price(size,add_pepperoni,extra_cheese):\n",
    "    size_chart=['S', 'M', 'L']\n",
    "    Price_chart=[15, 20, 25]\n",
    "    add_on=0\n",
    "    if add_pepperoni == 'Y':\n",
    "      if size == 'S':\n",
    "        add_on += 2\n",
    "      else:\n",
    "        add_on += 3\n",
    "    else:\n",
    "      add_on += 0\n",
    "\n",
    "    if extra_cheese == 'Y':\n",
    "      add_on += 1\n",
    "    else:\n",
    "      add_on += 0\n",
    "\n",
    "    Total_price=Price_chart[size_chart.index(size)]+add_on\n",
    "    return Total_price\n",
    "\n",
    "def main():\n",
    "    print(\"Thank you for choosing Python Pizza Deliveries!\")\n",
    "    num_pizza=int(input('Enter number of pizza!'))\n",
    "    pizza_data=[]\n",
    "    for i in range(num_pizza):\n",
    "        print(f\"\\nEnter details for pizza {i + 1}:\")\n",
    "        size = input('What size pizza do you want? S, M, or L').upper()\n",
    "        add_pepperoni = input('Do you want pepperoni? Y or N').upper()\n",
    "        extra_cheese = input('Do you want extra cheese? Y or N').upper()\n",
    "        pizza_data.append((size,add_pepperoni,extra_cheese))\n",
    "    \n",
    "    total_bill=0\n",
    "    for i, pdata in enumerate(pizza_data, 1):\n",
    "        size,add_pepperoni,extra_cheese=pdata\n",
    "        print(f'\\nPizza {i} details:')\n",
    "        Total_price=pizza_price(size,add_pepperoni,extra_cheese)\n",
    "        print('Size: ',size,'\\nPepperoni: ',add_pepperoni,'\\nExtra cheese: ',extra_cheese)\n",
    "        print(f'Your total for pizza {i} is ${Total_price}')\n",
    "        total_bill +=Total_price\n",
    "    print(f\"\\nYour final bill is: ${total_bill}.\")\n",
    "\n",
    "if __name__ == \"__main__\":\n",
    "    main()"
   ]
  },
  {
   "cell_type": "markdown",
   "id": "ad7cd988-dfbe-45f8-a8d4-a84618900ed6",
   "metadata": {},
   "source": [
    "# Love Calculator"
   ]
  },
  {
   "cell_type": "markdown",
   "id": "6eb8d17b-a981-473b-b407-4f1395072846",
   "metadata": {},
   "source": [
    "To work out the love score between two people:\n",
    "\n",
    "Take both people's names and check for the number of times the letters in the word TRUE occurs.\n",
    "\n",
    "Then check for the number of times the letters in the word LOVE occurs.\n",
    "\n",
    "Then combine these numbers to make a 2 digit number.\n",
    "\n",
    "For Love Scores less than 10 or greater than 90, the message should be:\n",
    "\n",
    "\"Your score is *x*, you go together like coke and mentos.\"\n",
    "For Love Scores between 40 and 50, the message should be:\n",
    "\n",
    "\"Your score is *y*, you are alright together.\"\n",
    "Otherwise, the message will just be their score. e.g.:\n",
    "\n",
    "\"Your score is *z*.\"\n",
    "\n",
    "This is one of the trust worthy buzzfeed artical."
   ]
  },
  {
   "cell_type": "code",
   "execution_count": 20,
   "id": "59639fb9-2061-4756-8c85-45ca6f4ce6af",
   "metadata": {},
   "outputs": [
    {
     "name": "stdout",
     "output_type": "stream",
     "text": [
      "The Love Calculator is calculating your score...\n"
     ]
    },
    {
     "name": "stdin",
     "output_type": "stream",
     "text": [
      "What is your name? a\n",
      "What is their name? f\n"
     ]
    },
    {
     "name": "stdout",
     "output_type": "stream",
     "text": [
      "Your score is 00, you go together like coke and mentos.\n"
     ]
    }
   ],
   "source": [
    "print(\"The Love Calculator is calculating your score...\")\n",
    "name1 = input('What is your name?') # What is your name?\n",
    "name2 = input('What is their name?') # What is their name?\n",
    "# 🚨 Don't change the code above 👆\n",
    "# Write your code below this line 👇\n",
    "#count TRUE LOVE\n",
    "words= ['True', 'Love']\n",
    "Total=[]\n",
    "\n",
    "for index, word in enumerate(words):\n",
    "  total_count=0\n",
    "  for Letter in word.upper().strip():\n",
    "    total_count +=name1.upper().count(Letter)+name2.upper().count(Letter)\n",
    "  Total.append(total_count)\n",
    "\n",
    "#concise way to concatenate all the elements in the Total list into a single string\n",
    "#For example, if Total is [10, 20, 30], map(str, Total) will produce ['10', '20', '30'], and ''.join(map(str, Total)) will concatenate these strings to form '102030'.\n",
    "Love_Score=''.join(map(str, Total))\n",
    "if int(Love_Score)<10 or int(Love_Score)>90:\n",
    "  print('Your score is '+Love_Score+', you go together like coke and mentos.')\n",
    "elif 40<=int(Love_Score)<=50:\n",
    "  print('Your score is '+Love_Score+', you are alright together.')\n",
    "else:\n",
    "  print('Your score is '+ Love_Score+'.')\n",
    "  "
   ]
  },
  {
   "cell_type": "markdown",
   "id": "211fb0c7-e471-4e78-9982-aba10dc9fe68",
   "metadata": {},
   "source": [
    "# Tip calculator"
   ]
  },
  {
   "cell_type": "code",
   "execution_count": 3,
   "id": "ee163164-ef9f-4109-96d3-26c6d550a957",
   "metadata": {},
   "outputs": [
    {
     "name": "stdout",
     "output_type": "stream",
     "text": [
      "Welcome to the tip calculator\n"
     ]
    },
    {
     "name": "stdin",
     "output_type": "stream",
     "text": [
      "What was the total bill? $ 100\n",
      "How many people to split the bill?  5\n",
      "What percentage of tip would you like to give (10, 12, 15 or Other)?  12\n"
     ]
    },
    {
     "name": "stdout",
     "output_type": "stream",
     "text": [
      "Each person should pay: $22.40\n"
     ]
    }
   ],
   "source": [
    "print('Welcome to the tip calculator')\n",
    "Total_Bill=float(input('What was the total bill? $'))\n",
    "Split_number=float(input('How many people to split the bill? '))\n",
    "Tip_per=float(input('What percentage of tip would you like to give (10, 12, 15 or Other)? '))\n",
    "\n",
    "Bill_Tip=Total_Bill*(Tip_per+100)/100\n",
    "per_person=round(Bill_Tip/Split_number,2)\n",
    "#show two decimal places all the time\n",
    "print(f'Each person should pay: ${\"{:.2f}\".format(per_person)}')# or print('Each person should pay: $',{per_person})"
   ]
  },
  {
   "cell_type": "markdown",
   "id": "e8b0e244-1952-4369-be61-be2bade1b0fe",
   "metadata": {},
   "source": [
    "# HEADS OR TAILS"
   ]
  },
  {
   "cell_type": "code",
   "execution_count": 6,
   "id": "8ea50c07-724b-4e76-aa2f-899deee4bcff",
   "metadata": {},
   "outputs": [
    {
     "name": "stdout",
     "output_type": "stream",
     "text": [
      "Heads\n"
     ]
    }
   ],
   "source": [
    "# Write your code below this line 👇\n",
    "# Hint: Remember to import the random module first. 🎲\n",
    "import random as rand\n",
    "#number list #number=[0, 1] #choose a number randomly #rand_number = rand.choice(number)\n",
    "rand_number=rand.randint(0,1)# genarate a number 0 or 1, if (0,2) means genarate an int between 0,2\n",
    "if rand_number==1:\n",
    "  print('Heads')\n",
    "else:\n",
    "  print('Tails')"
   ]
  },
  {
   "cell_type": "markdown",
   "id": "7d3e037d-5cdd-4c10-a1cc-f9a9e077691d",
   "metadata": {},
   "source": [
    "# BANKER ROULETTE"
   ]
  },
  {
   "cell_type": "code",
   "execution_count": 27,
   "id": "eb94cc4d-c311-44d1-b582-2eb6bce209da",
   "metadata": {},
   "outputs": [
    {
     "name": "stdin",
     "output_type": "stream",
     "text": [
      "type the names seperated by a comma Angela, Ben, Jenny, Michael, Chloe\n"
     ]
    },
    {
     "name": "stdout",
     "output_type": "stream",
     "text": [
      "Angela is going to buy the meal today!\n"
     ]
    }
   ],
   "source": [
    "names_string=input('type the names seperated by a comma')\n",
    "names = names_string.split(\", \")\n",
    "# The code above converts the input into an array seperating\n",
    "#each name in the input by a comma and space.\n",
    "# 🚨 Don't change the code above 👆\n",
    "import random as rand\n",
    "rand_number=rand.randint(0,len(names)-1)\n",
    "\n",
    "print(f'{names[rand_number]} is going to buy the meal today!')"
   ]
  },
  {
   "cell_type": "markdown",
   "id": "8ee6f9af-00c9-4685-832f-92c1ad3ee2f1",
   "metadata": {},
   "source": [
    "# TREASURE MAP"
   ]
  },
  {
   "cell_type": "code",
   "execution_count": 111,
   "id": "e2666c4c-edbc-4963-98ac-4b7b85e8f124",
   "metadata": {},
   "outputs": [
    {
     "name": "stdout",
     "output_type": "stream",
     "text": [
      "Hiding your treasure! X marks the spot.\n"
     ]
    },
    {
     "name": "stdin",
     "output_type": "stream",
     "text": [
      " c3\n"
     ]
    },
    {
     "name": "stdout",
     "output_type": "stream",
     "text": [
      "['⬜️', '️⬜️', '️⬜️']\n",
      "['⬜️', '⬜️', '️⬜️']\n",
      "['⬜️️', '⬜️️', 'X']\n"
     ]
    }
   ],
   "source": [
    "line1 = [\"⬜️\",\"️⬜️\",\"️⬜️\"]\n",
    "line2 = [\"⬜️\",\"⬜️\",\"️⬜️\"]\n",
    "line3 = [\"⬜️️\",\"⬜️️\",\"⬜️️\"]\n",
    "map = [line1, line2, line3]\n",
    "print(\"Hiding your treasure! X marks the spot.\")\n",
    "position = input() # Where do you want to put the treasure?\n",
    "# 🚨 Don't change the code above 👆\n",
    "# Write your code below this row 👇\n",
    "split_pos=list(position)\n",
    "split_pos[0]=ord(split_pos[0].upper())-64-1\n",
    "split_pos[1]=int(split_pos[1])-1\n",
    "map[split_pos[1]][split_pos[0]]='X'\n",
    "# Write your code above this row 👆\n",
    "# 🚨 Don't change the code below 👇\n",
    "print(f\"{line1}\\n{line2}\\n{line3}\")"
   ]
  },
  {
   "cell_type": "markdown",
   "id": "5e1a6b3f-b140-4ba6-94cf-a49a06808d66",
   "metadata": {},
   "source": [
    "# Treasure Island"
   ]
  },
  {
   "cell_type": "code",
   "execution_count": 62,
   "id": "f3e49655-8342-40ff-b861-59ebc79532a3",
   "metadata": {},
   "outputs": [
    {
     "name": "stdout",
     "output_type": "stream",
     "text": [
      "\n",
      "*******************************************\n",
      "       TTTTTTTTTTTTTTTTTTTTTT  IIIIIIIII\n",
      "    TTT:::::::::::::::::::::T  I::::::::I\n",
      "  TT:::::::::::::::::::::::T  I::::::::I\n",
      " T:::::TT:::::::TT:::::T:::T  II::::::II\n",
      "TTTTTT  T:::::T  TTTTTT  TTTTTT  I::::I  \n",
      "        T:::::T          T:::::T  I::::I  \n",
      "        T:::::T          T:::::T  I::::I  \n",
      "        T:::::T          T:::::T  I::::I  \n",
      "        T:::::T          T:::::T  I::::I  \n",
      "        T:::::T          T:::::T  I::::I  \n",
      "        T:::::T          T:::::T  I::::I  \n",
      "        T:::::T          T:::::T  I::::I  \n",
      "      TT:::::::TT      TT:::::::TTII::::::II\n",
      "      T:::::::::T      T:::::::::TI::::::::I\n",
      "      T:::::::::T      T:::::::::TI::::::::I\n",
      "      TTTTTTTTTTT      TTTTTTTTTTTIIIIIIIIII\n",
      "********************************************\n",
      "\n",
      "Welcome to Treasure Island.\n",
      "\n",
      "You find yourself standing near a crossroad, surrounded by dense forest on all sides. The trees sway gently in the breeze, casting long shadows across the path. \n",
      "Sunlight filters through the leaves, dappling the ground with patches of golden light.\n",
      "\n",
      "As you stand there, you feel a sense of anticipation building within you. You know that the path you choose will lead you on an adventure, full of twists and turns, \n",
      "mysteries and surprises.\n",
      "\n",
      "\n",
      "To your left, a narrow trail winds its way into the heart of the forest, disappearing into the shadows of the trees. It beckons you with the promise of hidden wonders \n",
      "and untold secrets.\n",
      "\n",
      "\n",
      "To your right, the path seems to lead towards a clearing, where sunlight streams down from above. You can hear the faint sound of running water in the distance, \n",
      "hinting at the presence of a nearby stream or river.\n",
      "\n",
      "\n",
      "You pause for a moment, considering your options. Will you venture into the depths of the forest, exploring its hidden depths? Or will you follow the path towards the \n",
      "light, seeking solace in the tranquility of nature?\n",
      "\n",
      "\n",
      "The choice is yours, and yours alone. So, where do you want to go? Left or right?\n"
     ]
    },
    {
     "name": "stdin",
     "output_type": "stream",
     "text": [
      "You're at a crossroad. Where do you want to go? Type \"left\" or \"right\" \n",
      " left\n",
      "You see a mysterious cave entrance. Do you want to explore it? Type \"enter\" to go inside or \"continue\" to keep moving. \n",
      " enter\n",
      "You venture deep into the cave and find three paths: one leading left, one right, and one straight ahead. Which path do you choose? Type 'left', 'right', or 'straight'. \n",
      " left\n"
     ]
    },
    {
     "name": "stdout",
     "output_type": "stream",
     "text": [
      "You stumble upon a hidden treasure chest! You Win!\n"
     ]
    }
   ],
   "source": [
    "print('''\n",
    "*******************************************\n",
    "       TTTTTTTTTTTTTTTTTTTTTT  IIIIIIIII\n",
    "    TTT:::::::::::::::::::::T  I::::::::I\n",
    "  TT:::::::::::::::::::::::T  I::::::::I\n",
    " T:::::TT:::::::TT:::::T:::T  II::::::II\n",
    "TTTTTT  T:::::T  TTTTTT  TTTTTT  I::::I  \n",
    "        T:::::T          T:::::T  I::::I  \n",
    "        T:::::T          T:::::T  I::::I  \n",
    "        T:::::T          T:::::T  I::::I  \n",
    "        T:::::T          T:::::T  I::::I  \n",
    "        T:::::T          T:::::T  I::::I  \n",
    "        T:::::T          T:::::T  I::::I  \n",
    "        T:::::T          T:::::T  I::::I  \n",
    "      TT:::::::TT      TT:::::::TTII::::::II\n",
    "      T:::::::::T      T:::::::::TI::::::::I\n",
    "      T:::::::::T      T:::::::::TI::::::::I\n",
    "      TTTTTTTTTTT      TTTTTTTTTTTIIIIIIIIII\n",
    "********************************************\n",
    "''')\n",
    "print(\"Welcome to Treasure Island.\\n\")\n",
    "print('''You find yourself standing near a crossroad, surrounded by dense forest on all sides. The trees sway gently in the breeze, casting long shadows across the path. \n",
    "Sunlight filters through the leaves, dappling the ground with patches of golden light.\\n\n",
    "As you stand there, you feel a sense of anticipation building within you. You know that the path you choose will lead you on an adventure, full of twists and turns, \n",
    "mysteries and surprises.\\n\n",
    "\n",
    "To your left, a narrow trail winds its way into the heart of the forest, disappearing into the shadows of the trees. It beckons you with the promise of hidden wonders \n",
    "and untold secrets.\\n\n",
    "\n",
    "To your right, the path seems to lead towards a clearing, where sunlight streams down from above. You can hear the faint sound of running water in the distance, \n",
    "hinting at the presence of a nearby stream or river.\\n\n",
    "\n",
    "You pause for a moment, considering your options. Will you venture into the depths of the forest, exploring its hidden depths? Or will you follow the path towards the \n",
    "light, seeking solace in the tranquility of nature?\\n\n",
    "\n",
    "The choice is yours, and yours alone. So, where do you want to go? Left or right?''')\n",
    "\n",
    "\n",
    "\n",
    "choice1 = input('You\\'re at a crossroad. Where do you want to go? Type \"left\" or \"right\" \\n').upper()\n",
    "if choice1 == \"LEFT\":\n",
    "  choice2 = input('You see a mysterious cave entrance. Do you want to explore it? Type \"enter\" to go inside or \"continue\" to keep moving. \\n').upper()\n",
    "  if choice2 == \"ENTER\":\n",
    "    choice3 = input(\"You venture deep into the cave and find three paths: one leading left, one right, and one straight ahead. Which path do you choose? Type 'left', 'right', or 'straight'. \\n\").upper()\n",
    "    if choice3 == \"LEFT\":\n",
    "      print(\"You stumble upon a hidden treasure chest! You Win!\")\n",
    "    elif choice3 == \"RIGHT\":\n",
    "      print(\"You encounter a sleeping dragon. Game Over.\")\n",
    "    elif choice3 == \"STRAIGHT\":\n",
    "      print(\"You walk into a dead end. Game Over.\")\n",
    "    else:\n",
    "      print(\"You're lost in the darkness. Game Over.\")\n",
    "  else:\n",
    "    print(\"You continue your journey and find a magical waterfall. You decide to rest there for a while.\")\n",
    "else:\n",
    "  print(\"You come across a haunted mansion. Game Over.\")\n"
   ]
  },
  {
   "cell_type": "markdown",
   "id": "dc6a4847-e6d5-4509-b6d0-ae988e4172d2",
   "metadata": {},
   "source": [
    "# Rollercoaster ticketing"
   ]
  },
  {
   "cell_type": "code",
   "execution_count": 3,
   "id": "bf59a9d6-238e-4eea-8a4c-792ed2859282",
   "metadata": {},
   "outputs": [
    {
     "name": "stdout",
     "output_type": "stream",
     "text": [
      "Welcome to the rollercoaster!\n"
     ]
    },
    {
     "name": "stdin",
     "output_type": "stream",
     "text": [
      "What is your height in cm?  100\n"
     ]
    },
    {
     "name": "stdout",
     "output_type": "stream",
     "text": [
      "you are not alloawed to ride the rollercoaster due to the height condition :(\n"
     ]
    }
   ],
   "source": [
    "print(\"Welcome to the rollercoaster!\")\n",
    "height = int(input(\"What is your height in cm? \"))\n",
    "if height>120:\n",
    "    print('You can ride the rollercoaster, here is your ticket :)')\n",
    "else:\n",
    "    print('you are not alloawed to ride the rollercoaster due to the height condition :(')"
   ]
  },
  {
   "cell_type": "markdown",
   "id": "eee77829-db32-495c-9824-9117092f50cd",
   "metadata": {},
   "source": [
    "# Rollercoaster ticketing 2.0"
   ]
  },
  {
   "cell_type": "code",
   "execution_count": 11,
   "id": "d90164a8-6c5f-4ee6-8539-011f05b5a65f",
   "metadata": {},
   "outputs": [
    {
     "name": "stdout",
     "output_type": "stream",
     "text": [
      "Welcome to the rollercoaster!\n"
     ]
    },
    {
     "name": "stdin",
     "output_type": "stream",
     "text": [
      "What is your height in cm?  130\n"
     ]
    },
    {
     "name": "stdout",
     "output_type": "stream",
     "text": [
      "You can ride the rollercoaster, here is your ticket :)\n"
     ]
    },
    {
     "name": "stdin",
     "output_type": "stream",
     "text": [
      "What is your age? 12\n"
     ]
    },
    {
     "name": "stdout",
     "output_type": "stream",
     "text": [
      "Your price is $5\n"
     ]
    },
    {
     "name": "stdin",
     "output_type": "stream",
     "text": [
      "Want a photo [Y/N]? y\n"
     ]
    },
    {
     "name": "stdout",
     "output_type": "stream",
     "text": [
      "Your total bill is $ 8\n"
     ]
    }
   ],
   "source": [
    "print(\"Welcome to the rollercoaster!\")\n",
    "height = int(input(\"What is your height in cm? \"))\n",
    "Total=0\n",
    "if height>120:\n",
    "    print('You can ride the rollercoaster, here is your ticket :)')\n",
    "    age = int(input('What is your age?'))\n",
    "    if age <=12:\n",
    "        Total=5\n",
    "        print('Your price is $5')\n",
    "    elif age <=18:\n",
    "        Total=7\n",
    "        print('Your price is $7')\n",
    "    else:\n",
    "        Total=12\n",
    "        print('Your price is $12')\n",
    "    Photo=input('Want a photo [Y/N]?').upper()\n",
    "    if Photo=='Y':\n",
    "        Total +=3\n",
    "    print('Your total bill is $',Total)\n",
    "else:\n",
    "    print('you are not alloawed to ride the rollercoaster due to the height condition :(')"
   ]
  },
  {
   "cell_type": "markdown",
   "id": "d85a315f-0879-4b79-b941-8f88d1614fd9",
   "metadata": {},
   "source": [
    "# Rollercoaster ticketing 3.0"
   ]
  },
  {
   "cell_type": "code",
   "execution_count": 36,
   "id": "0b06b916-b520-49d6-88f8-6bca13b047d0",
   "metadata": {},
   "outputs": [
    {
     "name": "stdout",
     "output_type": "stream",
     "text": [
      "Welcome to the rollercoaster!\n"
     ]
    },
    {
     "name": "stdin",
     "output_type": "stream",
     "text": [
      "Enter number of people! 1\n"
     ]
    },
    {
     "name": "stdout",
     "output_type": "stream",
     "text": [
      "\n",
      "Enter details for person 1:\n"
     ]
    },
    {
     "name": "stdin",
     "output_type": "stream",
     "text": [
      "What are the heights in cm and age?  130\n",
      "What is your age? 50\n",
      "Want a photo [Y/N]? y\n"
     ]
    },
    {
     "name": "stdout",
     "output_type": "stream",
     "text": [
      "\n",
      "Person 1, you can ride the rollercoaster:)\n",
      "--Your price is $12\n",
      "-----your photo price is $3\n",
      "Your total for person 1 is $15\n",
      "\n",
      "Your total bill is $ 15 \n",
      "with total number of people: 1\n"
     ]
    }
   ],
   "source": [
    "print(\"Welcome to the rollercoaster!\")\n",
    "num_people=int(input('Enter number of people!'))\n",
    "people_data=[]\n",
    "for i in range(num_people):\n",
    "    print(f\"\\nEnter details for person {i + 1}:\")\n",
    "    height = int(input(\"What are the heights in cm and age? \"))\n",
    "    age = int(input('What is your age?'))\n",
    "    Photo = input('Want a photo [Y/N]?').upper()\n",
    "    people_data.append((height,age,Photo))\n",
    "    \n",
    "Total=0\n",
    "valid_number_of_oeople=0\n",
    "for i, pdata in enumerate(people_data, 1):# 1 is the starting index\n",
    "    height, age, Photo = pdata\n",
    "    total=0\n",
    "    if height>120:\n",
    "        print(f'\\nPerson {i}, you can ride the rollercoaster:)')\n",
    "        #age = int(input('What is your age?'))\n",
    "        if age <=12:\n",
    "            total =5\n",
    "            print('--Your price is $5')\n",
    "        elif age <=18:\n",
    "            total =7\n",
    "            print('--Your price is $7')\n",
    "        else:\n",
    "            total =12\n",
    "            print('--Your price is $12')\n",
    "        if Photo=='Y':\n",
    "            total +=3\n",
    "            print('-----your photo price is $3')\n",
    "        print(f'Your total for person {i} is ${total}')\n",
    "        Total +=total\n",
    "        valid_number_of_oeople +=1\n",
    "    else:\n",
    "        print(f'\\nPerson {i}, you are not alloawed to ride the rollercoaster due to the height condition :(')\n",
    "        Total +=0\n",
    "\n",
    "print('\\nYour total bill is $',Total,'\\nvalid total number of people:',valid_number_of_oeople)"
   ]
  },
  {
   "cell_type": "markdown",
   "id": "7ec22575-ae85-440c-9df8-b09eeb3c6a48",
   "metadata": {},
   "source": [
    "# Rollercoaster ticketing 4.0"
   ]
  },
  {
   "cell_type": "code",
   "execution_count": 52,
   "id": "e9d4056d-68c7-4695-9380-25d9675fb297",
   "metadata": {},
   "outputs": [
    {
     "name": "stdout",
     "output_type": "stream",
     "text": [
      "Welcome to the rollercoaster!\n"
     ]
    },
    {
     "name": "stdin",
     "output_type": "stream",
     "text": [
      "Enter number of people! 1\n"
     ]
    },
    {
     "name": "stdout",
     "output_type": "stream",
     "text": [
      "\n",
      "Enter details for person 1:\n"
     ]
    },
    {
     "name": "stdin",
     "output_type": "stream",
     "text": [
      "What are the heights in cm and age?  130\n",
      "What is your age? 30\n",
      "Want a photo [Y/N]? y\n"
     ]
    },
    {
     "name": "stdout",
     "output_type": "stream",
     "text": [
      "\n",
      "Person 1, you can ride the rollercoaster:)\n",
      "Adult ticket\n",
      "--Your rider price is $12\n",
      "-----your photo price is $3\n",
      "Your total for person 1 is $15\n",
      "\n",
      "Your total bill is $ 15 \n",
      "valid total number of people: 1\n"
     ]
    }
   ],
   "source": [
    "def compute_rider_price(age,photo):\n",
    "    total = 0\n",
    "    photo_price=0\n",
    "    rider_word=''\n",
    "    if age <= 12:\n",
    "        total = 5\n",
    "        rider_word='Children ticket'\n",
    "    elif age <= 18:\n",
    "        total = 7\n",
    "        rider_word='Youth ticket'\n",
    "    elif age >= 45 and age <= 55:\n",
    "        total = 0 #dont need\n",
    "        rider_word='Everything is going to be ok. Have a free ride on us!'\n",
    "    else:\n",
    "        total = 12\n",
    "        rider_word='Adult ticket'\n",
    "    if photo == 'Y':\n",
    "        #total += 3\n",
    "        photo_price =3\n",
    "\n",
    "    return total,photo_price,rider_word\n",
    "\n",
    "def main():\n",
    "    print(\"Welcome to the rollercoaster!\")\n",
    "    num_people=int(input('Enter number of people!'))\n",
    "    people_data=[]\n",
    "    for i in range(num_people):\n",
    "        print(f\"\\nEnter details for person {i + 1}:\")\n",
    "        height = int(input(\"What are the heights in cm and age? \"))\n",
    "        age = int(input('What is your age?'))\n",
    "        Photo = input('Want a photo [Y/N]?').upper()\n",
    "        people_data.append((height,age,Photo))\n",
    "    \n",
    "    Total=0\n",
    "    valid_number_of_people=0\n",
    "    for i, pdata in enumerate(people_data, 1):# 1 is the starting index\n",
    "        height, age, Photo = pdata\n",
    "        if height>120:\n",
    "            print(f'\\nPerson {i}, you can ride the rollercoaster:)')\n",
    "            rider_price,rider_photo,rider_word=compute_rider_price(age,Photo)\n",
    "            print(rider_word)\n",
    "            print(f'--Your rider price is ${rider_price}')\n",
    "            print(f'-----your photo price is ${rider_photo}')  \n",
    "            print(f'Your total for person {i} is ${rider_price+rider_photo}')\n",
    "            Total +=rider_price+rider_photo\n",
    "            valid_number_of_people +=1\n",
    "        else:\n",
    "            print(f'\\nPerson {i}, you are not alloawed to ride the rollercoaster due to the height condition :(')\n",
    "            Total +=0\n",
    "\n",
    "    print('\\nYour total bill is $',Total,'\\nvalid total number of people:',valid_number_of_people)\n",
    "\n",
    "if __name__ == \"__main__\":\n",
    "    main()\n"
   ]
  },
  {
   "cell_type": "markdown",
   "id": "d7ed4062-91c1-4fb6-9853-795fc005a75a",
   "metadata": {},
   "source": [
    "# Average Height"
   ]
  },
  {
   "cell_type": "markdown",
   "id": "6ea8ec0f-25a5-4d43-a604-19d50995414f",
   "metadata": {},
   "source": [
    "Important: Should not use the sum() or len() functions. Should try to replicate their functionality using what you have learnt about for loops."
   ]
  },
  {
   "cell_type": "code",
   "execution_count": 68,
   "id": "75de1783-d882-4797-bad8-84ecaf4aff06",
   "metadata": {},
   "outputs": [
    {
     "name": "stdin",
     "output_type": "stream",
     "text": [
      " 1 2 3 4 5 6 7 8 9\n"
     ]
    },
    {
     "name": "stdout",
     "output_type": "stream",
     "text": [
      "total height = 45\n",
      "number of students = 9\n",
      "average height = 5\n"
     ]
    }
   ],
   "source": [
    "# Input a Python list of student heights\n",
    "student_heights = input().split()\n",
    "for n in range(0, len(student_heights)):\n",
    "  student_heights[n] = int(student_heights[n])\n",
    "\n",
    "\n",
    "sum_heights=0\n",
    "num_students=0\n",
    "for s_height in student_heights:\n",
    "  sum_heights += s_height\n",
    "  num_students += 1\n",
    "\n",
    "avg_height=round(sum_heights/num_students)\n",
    "avg_height=\"{:.0f}\".format(avg_height)\n",
    "\n",
    "print('total height =',sum_heights)\n",
    "print('number of students =',num_students)\n",
    "print('average height =',avg_height)"
   ]
  },
  {
   "cell_type": "markdown",
   "id": "f302f47f-6d83-4458-a97b-ff78bdf52770",
   "metadata": {},
   "source": [
    "# Average Height 2.0"
   ]
  },
  {
   "cell_type": "code",
   "execution_count": 74,
   "id": "485c0226-d9aa-409b-89ef-a5b6c8d51145",
   "metadata": {},
   "outputs": [
    {
     "name": "stdin",
     "output_type": "stream",
     "text": [
      " 1 2 3 4 5 6 7 8 9\n"
     ]
    },
    {
     "name": "stdout",
     "output_type": "stream",
     "text": [
      "total height = 45\n",
      "number of students = 9\n",
      "average height = 5\n"
     ]
    }
   ],
   "source": [
    "# Input a Python list of student heights\n",
    "def convert_to_int(list_of_str):\n",
    "    for n in range(0, len(list_of_str)):\n",
    "      list_of_str[n] = int(list_of_str[n])\n",
    "    return list_of_str\n",
    "\n",
    "def avg_of_list(list_of_int):\n",
    "    sum_of_list=0\n",
    "    num_of_items=0\n",
    "    for numbers in list_of_int:\n",
    "        sum_of_list += numbers\n",
    "        num_of_items += 1\n",
    "        avg_height=sum_heights/num_students\n",
    "    return avg_height,sum_of_list,num_of_items\n",
    "\n",
    "def main():\n",
    "    student_heights = input().split()\n",
    "    student_heights = convert_to_int(student_heights)\n",
    "    \n",
    "    avg_height,sum_heights,num_students=avg_of_list(student_heights)\n",
    "    \n",
    "    print('total height =',sum_heights)\n",
    "    print('number of students =',num_students)\n",
    "    print('average height =',\"{:.0f}\".format(round(avg_height)))\n",
    "if __name__ == \"__main__\":\n",
    "    main()"
   ]
  },
  {
   "cell_type": "markdown",
   "id": "05dd3d2c-76f3-4cca-aff6-79ad7e8b3a50",
   "metadata": {},
   "source": [
    "# High score"
   ]
  },
  {
   "cell_type": "markdown",
   "id": "79ef124b-b939-4349-bb74-0b39c8230be9",
   "metadata": {},
   "source": [
    "Important: Not allowed to use the max or min functions."
   ]
  },
  {
   "cell_type": "code",
   "execution_count": 69,
   "id": "5bd8e9b9-dc96-4f35-9e62-6a6f0b2d2d0f",
   "metadata": {},
   "outputs": [
    {
     "name": "stdin",
     "output_type": "stream",
     "text": [
      " 1 2 3 4 5 6 7 8 9\n"
     ]
    },
    {
     "name": "stdout",
     "output_type": "stream",
     "text": [
      "The highest score in the class is: 9\n"
     ]
    }
   ],
   "source": [
    "# Input a list of student scores\n",
    "student_scores = input().split()\n",
    "for n in range(0, len(student_scores)):\n",
    "  student_scores[n] = int(student_scores[n])\n",
    "\n",
    "\n",
    "max_mark=0\n",
    "for s_mark in student_scores:\n",
    "  if s_mark>=max_mark:\n",
    "    max_mark=s_mark\n",
    "\n",
    "print('The highest score in the class is:',max_mark)"
   ]
  },
  {
   "cell_type": "markdown",
   "id": "9ce587ec-91a1-4c71-8949-2e480413fb32",
   "metadata": {},
   "source": [
    "# High score 2.0"
   ]
  },
  {
   "cell_type": "code",
   "execution_count": 72,
   "id": "7c144851-a3aa-466f-ab2d-d7878c9c7313",
   "metadata": {},
   "outputs": [
    {
     "name": "stdin",
     "output_type": "stream",
     "text": [
      " 1 2 3 4 5 6 7 8 9\n"
     ]
    },
    {
     "name": "stdout",
     "output_type": "stream",
     "text": [
      "The highest score in the class is: 9\n"
     ]
    }
   ],
   "source": [
    "# Input a list of student scores\n",
    "def convert_to_int(list_of_str):\n",
    "    for n in range(0, len(list_of_str)):\n",
    "      list_of_str[n] = int(list_of_str[n])\n",
    "    return list_of_str\n",
    "\n",
    "def find_max(list_of_numbers):\n",
    "    max_number=0\n",
    "    for number in list_of_numbers:\n",
    "        if number>=max_number:\n",
    "            max_number=number\n",
    "    return max_number\n",
    "\n",
    "\n",
    "def main():\n",
    "    student_scores = input().split()\n",
    "    student_scores = convert_to_int(student_scores)\n",
    "    max_mark=find_max(student_scores)\n",
    "\n",
    "    print('The highest score in the class is:',max_mark)\n",
    "    \n",
    "if __name__ == \"__main__\":\n",
    "    main()\n"
   ]
  },
  {
   "cell_type": "markdown",
   "id": "a9610e7c-502e-4888-bf7e-d0f79474fd3c",
   "metadata": {},
   "source": [
    "# Adding even numbers"
   ]
  },
  {
   "cell_type": "code",
   "execution_count": 97,
   "id": "2d2b101b-99a4-4ccf-a5c5-5bb2605df6e2",
   "metadata": {},
   "outputs": [
    {
     "name": "stdin",
     "output_type": "stream",
     "text": [
      " 1000\n"
     ]
    },
    {
     "name": "stdout",
     "output_type": "stream",
     "text": [
      "250500\n"
     ]
    }
   ],
   "source": [
    "target = int(input()) # Enter a number between 0 and 1000\n",
    "# 🚨 Do not change the code above ☝️\n",
    "\n",
    "# Write your code here 👇\n",
    "if target<=1000:\n",
    "  sum_of_int=0\n",
    "  for i in range(target+1):\n",
    "    if i % 2 == 0:\n",
    "      sum_of_int +=i\n",
    "  print(sum_of_int)\n",
    "else:\n",
    "    print(\"Number must be less than 1000\")\n",
    "    \n",
    "'''\n",
    "or\n",
    "even_sum = 0\n",
    "for number in range(0, target + 1, 2):\n",
    "  even_sum += number\n",
    "print(even_sum)\n",
    "'''"
   ]
  },
  {
   "cell_type": "markdown",
   "id": "eba8d5e6-3422-4ca5-b04e-eb88ccd4e8c1",
   "metadata": {},
   "source": [
    "# Adding even numbers 2.0"
   ]
  },
  {
   "cell_type": "code",
   "execution_count": 102,
   "id": "91def0ec-82db-473a-9350-3f079e0cb9e9",
   "metadata": {},
   "outputs": [
    {
     "name": "stdin",
     "output_type": "stream",
     "text": [
      "Enter a number between 0 and 1000:  10\n",
      "Enter a number between 0 and 1000:  2\n"
     ]
    },
    {
     "name": "stdout",
     "output_type": "stream",
     "text": [
      "Sum of all the even numbers from 1 to 10 = 30\n"
     ]
    }
   ],
   "source": [
    "target = int(input('Enter a number between 0 and 1000: ')) # Enter a number between 0 and 1000\n",
    "starting = int(input('Enter a number between 0 and 1000: '))\n",
    "try:\n",
    "    if target > 1000:\n",
    "        raise ValueError(\"Number must be less than 1000\")\n",
    "    \n",
    "    sum_of_int = 0\n",
    "    for i in range(starting,target + 1,2):\n",
    "        sum_of_int += i\n",
    "        \n",
    "    print(f'Sum of all the even numbers from 1 to {target} =', sum_of_int)\n",
    "\n",
    "except ValueError as ve:\n",
    "    print(ve)  \n"
   ]
  },
  {
   "cell_type": "markdown",
   "id": "84c4e71f-a231-46c6-b0e2-13f99b23cdfd",
   "metadata": {},
   "source": [
    "# FIZZBUZZ"
   ]
  },
  {
   "cell_type": "markdown",
   "id": "501e5870-201b-433f-8b22-0731e883fcbe",
   "metadata": {},
   "source": [
    "You are going to write a program that automatically prints the solution to the FizzBuzz game. These are the rules of the FizzBuzz game:\n",
    "\n",
    "Your program should print each number from 1 to 100 in turn and include number 100.\n",
    "\n",
    "When the number is divisible by 3 then instead of printing the number it should print \"Fizz\".\n",
    "\n",
    "When the number is divisible by 5, then instead of printing the number it should print \"Buzz\".`\n",
    "\n",
    "And if the number is divisible by both 3 and 5 e.g. 15 then instead of the number it should print \"FizzBuzz\""
   ]
  },
  {
   "cell_type": "code",
   "execution_count": 106,
   "id": "a6ce6644-92e9-4281-b1f7-650d6c1cfba6",
   "metadata": {},
   "outputs": [
    {
     "name": "stdout",
     "output_type": "stream",
     "text": [
      "Welcome to FizzBuzz games\n",
      "1\n",
      "2\n",
      "Fizz\n",
      "4\n",
      "Buzz\n",
      "Fizz\n",
      "7\n",
      "8\n",
      "Fizz\n",
      "Buzz\n",
      "11\n",
      "Fizz\n",
      "13\n",
      "14\n",
      "FizzBuzz\n",
      "16\n",
      "17\n",
      "Fizz\n",
      "19\n",
      "Buzz\n"
     ]
    }
   ],
   "source": [
    "print('Welcome to FizzBuzz games')\n",
    "end=20\n",
    "for i in range(1,end+1):\n",
    "  if i % 3 ==0 and i % 5 ==0:\n",
    "    print('FizzBuzz')\n",
    "  elif i % 3==0:\n",
    "    print('Fizz')\n",
    "  elif i % 5==0:\n",
    "    print('Buzz')\n",
    "  else:\n",
    "    print(i)"
   ]
  },
  {
   "cell_type": "code",
   "execution_count": null,
   "id": "bde5bbe5-2e19-403f-af46-14e08fb8b920",
   "metadata": {},
   "outputs": [],
   "source": []
  }
 ],
 "metadata": {
  "kernelspec": {
   "display_name": "Python 3 (ipykernel)",
   "language": "python",
   "name": "python3"
  },
  "language_info": {
   "codemirror_mode": {
    "name": "ipython",
    "version": 3
   },
   "file_extension": ".py",
   "mimetype": "text/x-python",
   "name": "python",
   "nbconvert_exporter": "python",
   "pygments_lexer": "ipython3",
   "version": "3.10.9"
  }
 },
 "nbformat": 4,
 "nbformat_minor": 5
}

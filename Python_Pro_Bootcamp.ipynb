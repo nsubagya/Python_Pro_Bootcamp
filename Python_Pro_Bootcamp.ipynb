{
 "cells": [
  {
   "cell_type": "markdown",
   "id": "ccf801d6-983f-4c05-990d-da80e1ed1e35",
   "metadata": {},
   "source": [
    "# Day 1 print function"
   ]
  },
  {
   "cell_type": "code",
   "execution_count": 63,
   "id": "16bd3c7a-9033-4e4d-aae8-a4c24b1fccb2",
   "metadata": {},
   "outputs": [
    {
     "name": "stdout",
     "output_type": "stream",
     "text": [
      "1. Mix 500g of Flour, 10g Yeast and 300ml Water in a bowl.\n",
      "2. Knead the dough for 10 minutes.\n",
      "3. Add 3g of Salt.\n",
      "4. Leave to rise for 2 hours.\n",
      "5. Bake at 200 degrees C for 30 minutes.\n"
     ]
    }
   ],
   "source": [
    "#print(\"Day 1 - Python Print Function\")\n",
    "#print(\"The function is declared like this:\")\n",
    "print('''1. Mix 500g of Flour, 10g Yeast and 300ml Water in a bowl.\n",
    "2. Knead the dough for 10 minutes.\n",
    "3. Add 3g of Salt.\n",
    "4. Leave to rise for 2 hours.\n",
    "5. Bake at 200 degrees C for 30 minutes.''')"
   ]
  },
  {
   "cell_type": "markdown",
   "id": "91cd8d27-0797-43b0-a2f3-0f5ece2404ba",
   "metadata": {},
   "source": [
    "# Band name generator"
   ]
  },
  {
   "cell_type": "code",
   "execution_count": 107,
   "id": "8cf1e2af-f76d-4dac-a05e-238bf6bacb79",
   "metadata": {},
   "outputs": [],
   "source": [
    "def band_gen(city,pet):\n",
    "    #city=input(\"what is the name of the city you grew up in?\")\n",
    "    #pet=input(\"wht is your pet's name?\")\n",
    "\n",
    "    assert city.strip(), \"City name cannot be empty\"#if city is empty of false assert catch and raise assertion error\n",
    "    assert pet.strip(), \"Pet name cannot be empty\"\n",
    "\n",
    "    return f\"your band name could be: \"+city+\" \"+ pet"
   ]
  },
  {
   "cell_type": "code",
   "execution_count": 108,
   "id": "826accb1-1d1c-4a02-8c14-8499976142eb",
   "metadata": {},
   "outputs": [
    {
     "data": {
      "text/plain": [
       "'your band name could be: Kandy bear'"
      ]
     },
     "execution_count": 108,
     "metadata": {},
     "output_type": "execute_result"
    }
   ],
   "source": [
    "band_gen('Kandy','bear')"
   ]
  },
  {
   "cell_type": "code",
   "execution_count": 141,
   "id": "924facee-6364-4062-b86c-589a439f776c",
   "metadata": {},
   "outputs": [
    {
     "name": "stdout",
     "output_type": "stream",
     "text": [
      "All tests passed successfully!\n"
     ]
    }
   ],
   "source": [
    "def test_band_gen():\n",
    "    # Test with non-empty inputs\n",
    "\n",
    "    assert band_gen(\"New York\", \"Rex\") == \"your band name could be: New York Rex\"\n",
    "    \n",
    "    # Test with empty city\n",
    "    try:\n",
    "        band_gen(\"\", \"Rex\")\n",
    "    except AssertionError as e:\n",
    "        assert str(e) == \"City name cannot be empty\", f\"Unexpected error message: {e}\"\n",
    "    else:\n",
    "        assert False, \"Expected AssertionError not raised\"\n",
    "    \n",
    "    # Test with empty pet\n",
    "    try:\n",
    "        band_gen(\"New York\", \"\")\n",
    "    except AssertionError as e:\n",
    "        assert str(e) == \"Pet name cannot be empty\", f\"Unexpected error message: {e}\"\n",
    "    else:\n",
    "        assert False, \"Expected AssertionError not raised\"\n",
    "\n",
    "    print(\"All tests passed successfully!\")\n",
    "\n",
    "# Run the test\n",
    "test_band_gen()\n"
   ]
  },
  {
   "cell_type": "markdown",
   "id": "5eccb932-5714-4b6c-84b8-88102a7571b3",
   "metadata": {},
   "source": [
    "# Hello world"
   ]
  },
  {
   "cell_type": "code",
   "execution_count": 4,
   "id": "01475a7c-1081-44c0-b951-0c6ac441caa4",
   "metadata": {},
   "outputs": [
    {
     "name": "stdout",
     "output_type": "stream",
     "text": [
      "Hello world!\n"
     ]
    }
   ],
   "source": [
    "print(\"Hello world!\")"
   ]
  },
  {
   "cell_type": "markdown",
   "id": "71a8796f-b25d-4820-8a8a-60e8761356a8",
   "metadata": {},
   "source": [
    "# Print function"
   ]
  },
  {
   "cell_type": "code",
   "execution_count": 5,
   "id": "74648b45-da04-43d3-9fa7-a28f11c03f2f",
   "metadata": {},
   "outputs": [
    {
     "name": "stdout",
     "output_type": "stream",
     "text": [
      "Day 1 - Python Print Function\n",
      "The function is declared like this:\n",
      "print('what to print')\n"
     ]
    }
   ],
   "source": [
    "print(\"Day 1 - Python Print Function\")\n",
    "print(\"The function is declared like this:\")\n",
    "print(\"print('what to print')\")"
   ]
  },
  {
   "cell_type": "code",
   "execution_count": 162,
   "id": "b3f7ee02-a872-4850-b336-8a5f7295a27f",
   "metadata": {},
   "outputs": [
    {
     "name": "stdout",
     "output_type": "stream",
     "text": [
      "Hello World!\n",
      "Hello World!\n",
      "Hello World!\n",
      "\n"
     ]
    }
   ],
   "source": [
    "print(f\"Hello World!\\n\" * 3)"
   ]
  },
  {
   "cell_type": "markdown",
   "id": "6529e7e0-829f-468d-929c-1d52fa18c4a5",
   "metadata": {},
   "source": [
    "# Print"
   ]
  },
  {
   "cell_type": "code",
   "execution_count": 6,
   "id": "e032c2f6-c67c-497d-a1c8-e9567b5efd48",
   "metadata": {},
   "outputs": [
    {
     "name": "stdout",
     "output_type": "stream",
     "text": [
      "Day 1 - Python Print Function\n",
      "The function is declared like this:\n",
      "print('what to print')\n"
     ]
    }
   ],
   "source": [
    "print(\"Day 1 - Python Print Function\")\n",
    "print(\"The function is declared like this:\")\n",
    "print(\"print('what to print')\")"
   ]
  },
  {
   "cell_type": "code",
   "execution_count": 25,
   "id": "5b7ab457-afb2-44c6-96fc-7b8191a78fc1",
   "metadata": {},
   "outputs": [
    {
     "name": "stdout",
     "output_type": "stream",
     "text": [
      "o\n"
     ]
    }
   ],
   "source": [
    "print('Hello'[-1])"
   ]
  },
  {
   "cell_type": "markdown",
   "id": "44eb8024-a7ea-4371-b2a9-2891e581bf13",
   "metadata": {},
   "source": [
    "# Inputs"
   ]
  },
  {
   "cell_type": "code",
   "execution_count": 5,
   "id": "d97ddd56-24d2-4b2a-afaa-18ce1fb65239",
   "metadata": {},
   "outputs": [
    {
     "name": "stdin",
     "output_type": "stream",
     "text": [
      " 1\n",
      " 3\n"
     ]
    },
    {
     "name": "stdout",
     "output_type": "stream",
     "text": [
      "3\n"
     ]
    }
   ],
   "source": [
    "num1 = int(input())\n",
    "num2 = int(input())\n",
    "print(num1*num2)"
   ]
  },
  {
   "cell_type": "markdown",
   "id": "291cbd45-a4aa-49ee-92e0-2334c9275cc5",
   "metadata": {},
   "source": [
    "# Variables"
   ]
  },
  {
   "cell_type": "code",
   "execution_count": 4,
   "id": "6b36da45-5cfa-44b2-9e34-d134c26b601c",
   "metadata": {},
   "outputs": [
    {
     "name": "stdin",
     "output_type": "stream",
     "text": [
      " 1\n",
      " 3\n"
     ]
    },
    {
     "name": "stdout",
     "output_type": "stream",
     "text": [
      "a: 3\n",
      "b: 1\n"
     ]
    }
   ],
   "source": [
    "# There are two variables, a and b from input\n",
    "a = input()\n",
    "b = input()\n",
    "\n",
    "c=a\n",
    "a=b\n",
    "b=c\n",
    "\n",
    "\n",
    "\n",
    "\n",
    "print(\"a: \" + a)\n",
    "print(\"b: \" + b)\n"
   ]
  },
  {
   "cell_type": "markdown",
   "id": "0cd30e3f-4d98-4cdb-ba6d-7aa8425d64b0",
   "metadata": {},
   "source": [
    "# Data types"
   ]
  },
  {
   "cell_type": "code",
   "execution_count": 3,
   "id": "c2e6b936-9025-4288-afba-e97cbc71c757",
   "metadata": {},
   "outputs": [
    {
     "name": "stdin",
     "output_type": "stream",
     "text": [
      " 39\n"
     ]
    },
    {
     "name": "stdout",
     "output_type": "stream",
     "text": [
      "12\n"
     ]
    }
   ],
   "source": [
    "two_digit_number = input()\n",
    "\n",
    "#print(int(two_digit_number[0])+int(two_digit_number[1]))\n",
    "count=0\n",
    "for i in two_digit_number:\n",
    "  count+=int(i)\n",
    "\n",
    "print(count)"
   ]
  },
  {
   "cell_type": "markdown",
   "id": "cdc0f09c-baf5-4c45-b297-b0c9f799b002",
   "metadata": {},
   "source": [
    "# BMI"
   ]
  },
  {
   "cell_type": "code",
   "execution_count": 1,
   "id": "1c8bd350-b200-4539-abe4-7f2d30621ba8",
   "metadata": {},
   "outputs": [
    {
     "name": "stdin",
     "output_type": "stream",
     "text": [
      " 1\n",
      " 1\n"
     ]
    },
    {
     "name": "stdout",
     "output_type": "stream",
     "text": [
      "1\n"
     ]
    }
   ],
   "source": [
    "# 1st input: enter height in meters e.g: 1.65\n",
    "height = input()\n",
    "# 2nd input: enter weight in kilograms e.g: 72\n",
    "weight = input()\n",
    "\n",
    "\n",
    "\n",
    "print(int(float(weight)/(float(height)**2)))"
   ]
  },
  {
   "cell_type": "markdown",
   "id": "e05c5ce5-9aaa-4f43-ad9d-764f271e3db0",
   "metadata": {},
   "source": [
    "# Life in weeks"
   ]
  },
  {
   "cell_type": "code",
   "execution_count": 7,
   "id": "b893b164-d7a2-4b6b-aabb-8218bc8ef03c",
   "metadata": {},
   "outputs": [
    {
     "name": "stdin",
     "output_type": "stream",
     "text": [
      " 35\n"
     ]
    },
    {
     "name": "stdout",
     "output_type": "stream",
     "text": [
      "You have 2860 weeks left.\n"
     ]
    }
   ],
   "source": [
    "age = input()\n",
    "\n",
    "print(f\"You have {52*(90-int(age))} weeks left.\")"
   ]
  },
  {
   "cell_type": "markdown",
   "id": "2dd07a54-597a-4d1d-a934-f58b2566a400",
   "metadata": {},
   "source": [
    "# Odd or even?"
   ]
  },
  {
   "cell_type": "code",
   "execution_count": 8,
   "id": "0520c5da-fce0-4c83-ba9b-db1659149f03",
   "metadata": {},
   "outputs": [
    {
     "name": "stdin",
     "output_type": "stream",
     "text": [
      " 4\n"
     ]
    },
    {
     "name": "stdout",
     "output_type": "stream",
     "text": [
      "This is an even number.\n"
     ]
    }
   ],
   "source": [
    "# Which number do you want to check?\n",
    "number = int(input())\n",
    "\n",
    "\n",
    "\n",
    "if number % 2==0:\n",
    "  print('This is an even number.')\n",
    "\n",
    "else:\n",
    "  print('This is an odd number.')"
   ]
  },
  {
   "cell_type": "markdown",
   "id": "14162dce-9bd9-463b-9e56-9c8852e65517",
   "metadata": {},
   "source": [
    "# BMI 2.0"
   ]
  },
  {
   "cell_type": "code",
   "execution_count": 9,
   "id": "67c7329e-d1a8-4b6e-b696-4075709fc9dd",
   "metadata": {},
   "outputs": [
    {
     "name": "stdin",
     "output_type": "stream",
     "text": [
      " 2\n",
      " 3\n"
     ]
    },
    {
     "name": "stdout",
     "output_type": "stream",
     "text": [
      "Your BMI is 0.75, you are underweight.\n"
     ]
    }
   ],
   "source": [
    "# Enter your height in meters e.g., 1.55\n",
    "height = float(input())\n",
    "# Enter your weight in kilograms e.g., 72\n",
    "weight = int(input())\n",
    "\n",
    "BMI=weight/height**2\n",
    "if BMI<18.5:\n",
    "  interprets=\", you are underweight.\"\n",
    "elif 18.5<=BMI<25:\n",
    "  interprets=\", you have a normal weight.\"\n",
    "elif 25<=BMI<30:\n",
    "  interprets=\", you are slightly overweight.\"\n",
    "elif 30<=BMI<35:\n",
    "  interprets=\", you are obese.\"\n",
    "else:\n",
    "  interprets=\", you are clinically obese.\"\n",
    "print(f\"Your BMI is {BMI}{interprets}\")"
   ]
  },
  {
   "cell_type": "markdown",
   "id": "2581e728-2478-4675-8117-f0f7fea9d3f3",
   "metadata": {},
   "source": [
    "# Leap year"
   ]
  },
  {
   "cell_type": "code",
   "execution_count": null,
   "id": "7a1fd9dc-21c6-4f57-97b9-7e4801edf3a3",
   "metadata": {},
   "outputs": [],
   "source": [
    "# Which year do you want to check?\n",
    "year = int(input())\n",
    "\n",
    "if year % 4 == 0:\n",
    "  if year % 100 == 0:\n",
    "    if year % 400 == 0:\n",
    "      print(\"Leap year\")\n",
    "    else:\n",
    "      print(\"Not leap year\")\n",
    "  else:\n",
    "    print(\"Leap year\")\n",
    "else:\n",
    "  print(\"Not leap year\")"
   ]
  },
  {
   "cell_type": "markdown",
   "id": "7add160d-ae37-449c-b845-8af8c2f4cb9b",
   "metadata": {},
   "source": [
    "# Leap year 2.0"
   ]
  },
  {
   "cell_type": "markdown",
   "id": "02426cd9-e439-41a4-a19f-2c4aad2df8c8",
   "metadata": {},
   "source": [
    "on every year that is divisible by 4 with no remainder\n",
    "\n",
    "except every year that is evenly divisible by 100 with no remainder\n",
    "\n",
    "unless the year is also divisible by 400 with no remainder"
   ]
  },
  {
   "cell_type": "code",
   "execution_count": 8,
   "id": "ff04cb9e-4e89-43d6-a23d-fb85c1c47702",
   "metadata": {},
   "outputs": [
    {
     "name": "stdin",
     "output_type": "stream",
     "text": [
      " 3\n"
     ]
    },
    {
     "name": "stdout",
     "output_type": "stream",
     "text": [
      "Not leap year\n"
     ]
    }
   ],
   "source": [
    "# Which year do you want to check?\n",
    "year = int(input())\n",
    "\n",
    "\n",
    "\n",
    "#if x % 400 ==0 means it already x % 4==0 and x % 100 ==0, if x % 4 !=0 means it cant be x % 400 ==0 so it went to else option\n",
    "if (year % 4==0 and year % 100 !=0) or (year % 400 ==0):\n",
    "  print(\"Leap year\")\n",
    "\n",
    "else:\n",
    "  print(\"Not leap year\")"
   ]
  },
  {
   "cell_type": "markdown",
   "id": "f719a1cd-e507-497e-b790-dd686d0fe38d",
   "metadata": {},
   "source": [
    "# Pizza order practice"
   ]
  },
  {
   "cell_type": "code",
   "execution_count": 44,
   "id": "e5dc052a-659d-4110-9058-de8a7dec9fa5",
   "metadata": {},
   "outputs": [
    {
     "name": "stdout",
     "output_type": "stream",
     "text": [
      "Thank you for choosing Python Pizza Deliveries!\n"
     ]
    },
    {
     "name": "stdin",
     "output_type": "stream",
     "text": [
      "What size pizza do you want? S, M, or L s\n",
      "Do you want pepperoni? Y or N y\n",
      "Do you want extra cheese? Y or N y\n"
     ]
    },
    {
     "name": "stdout",
     "output_type": "stream",
     "text": [
      "Your final bill is: $18.\n"
     ]
    }
   ],
   "source": [
    "print(\"Thank you for choosing Python Pizza Deliveries!\")\n",
    "size = input('What size pizza do you want? S, M, or L').upper() # What size pizza do you want? S, M, or L\n",
    "add_pepperoni = input('Do you want pepperoni? Y or N').upper() # Do you want pepperoni? Y or N\n",
    "extra_cheese = input('Do you want extra cheese? Y or N').upper() # Do you want extra cheese? Y or N\n",
    "\n",
    "size_chart=['S', 'M', 'L']\n",
    "Price_chart=[15, 20, 25]\n",
    "add_on=0\n",
    "if add_pepperoni == 'Y':\n",
    "  if size == 'S':\n",
    "    add_on += 2\n",
    "  else:\n",
    "    add_on += 3\n",
    "else:\n",
    "  add_on += 0\n",
    "\n",
    "if extra_cheese == 'Y':\n",
    "  add_on += 1\n",
    "else:\n",
    "  add_on += 0\n",
    "\n",
    "Total_price=Price_chart[size_chart.index(size)]+add_on\n",
    "\n",
    "print(f\"Your final bill is: ${Total_price}.\")"
   ]
  },
  {
   "cell_type": "markdown",
   "id": "5ba39585-6844-4393-a777-5a32735df293",
   "metadata": {},
   "source": [
    "# Pizza order practice 2.0"
   ]
  },
  {
   "cell_type": "code",
   "execution_count": 48,
   "id": "ac548ba0-abcf-4926-b479-b8132648ff3e",
   "metadata": {},
   "outputs": [
    {
     "name": "stdout",
     "output_type": "stream",
     "text": [
      "Thank you for choosing Python Pizza Deliveries!\n"
     ]
    },
    {
     "name": "stdin",
     "output_type": "stream",
     "text": [
      "Enter number of pizza! 2\n"
     ]
    },
    {
     "name": "stdout",
     "output_type": "stream",
     "text": [
      "\n",
      "Enter details for pizza 1:\n"
     ]
    },
    {
     "name": "stdin",
     "output_type": "stream",
     "text": [
      "What size pizza do you want? S, M, or L s\n",
      "Do you want pepperoni? Y or N y\n",
      "Do you want extra cheese? Y or N y\n"
     ]
    },
    {
     "name": "stdout",
     "output_type": "stream",
     "text": [
      "\n",
      "Enter details for pizza 2:\n"
     ]
    },
    {
     "name": "stdin",
     "output_type": "stream",
     "text": [
      "What size pizza do you want? S, M, or L s\n",
      "Do you want pepperoni? Y or N y\n",
      "Do you want extra cheese? Y or N y\n"
     ]
    },
    {
     "name": "stdout",
     "output_type": "stream",
     "text": [
      "\n",
      "Pizza 1.\n",
      "Size:  S \n",
      "Pepperoni:  Y \n",
      "Extra cheese:  Y\n",
      "Your total for pizza 1 is $18\n",
      "\n",
      "Pizza 2.\n",
      "Size:  S \n",
      "Pepperoni:  Y \n",
      "Extra cheese:  Y\n",
      "Your total for pizza 2 is $18\n",
      "\n",
      "Your final bill is: $36.\n"
     ]
    }
   ],
   "source": [
    "def pizza_price(size,add_pepperoni,extra_cheese):\n",
    "    size_chart=['S', 'M', 'L']\n",
    "    Price_chart=[15, 20, 25]\n",
    "    add_on=0\n",
    "    if add_pepperoni == 'Y':\n",
    "      if size == 'S':\n",
    "        add_on += 2\n",
    "      else:\n",
    "        add_on += 3\n",
    "    else:\n",
    "      add_on += 0\n",
    "\n",
    "    if extra_cheese == 'Y':\n",
    "      add_on += 1\n",
    "    else:\n",
    "      add_on += 0\n",
    "\n",
    "    Total_price=Price_chart[size_chart.index(size)]+add_on\n",
    "    return Total_price\n",
    "\n",
    "def main():\n",
    "    print(\"Thank you for choosing Python Pizza Deliveries!\")\n",
    "    num_pizza=int(input('Enter number of pizza!'))\n",
    "    pizza_data=[]\n",
    "    for i in range(num_pizza):\n",
    "        print(f\"\\nEnter details for pizza {i + 1}:\")\n",
    "        size = input('What size pizza do you want? S, M, or L').upper()\n",
    "        add_pepperoni = input('Do you want pepperoni? Y or N').upper()\n",
    "        extra_cheese = input('Do you want extra cheese? Y or N').upper()\n",
    "        pizza_data.append((size,add_pepperoni,extra_cheese))\n",
    "    \n",
    "    total_bill=0\n",
    "    for i, pdata in enumerate(pizza_data, 1):\n",
    "        size,add_pepperoni,extra_cheese=pdata\n",
    "        print(f'\\nPizza {i} details:')\n",
    "        Total_price=pizza_price(size,add_pepperoni,extra_cheese)\n",
    "        print('Size: ',size,'\\nPepperoni: ',add_pepperoni,'\\nExtra cheese: ',extra_cheese)\n",
    "        print(f'Your total for pizza {i} is ${Total_price}')\n",
    "        total_bill +=Total_price\n",
    "    print(f\"\\nYour final bill is: ${total_bill}.\")\n",
    "\n",
    "if __name__ == \"__main__\":\n",
    "    main()"
   ]
  },
  {
   "cell_type": "markdown",
   "id": "ad7cd988-dfbe-45f8-a8d4-a84618900ed6",
   "metadata": {},
   "source": [
    "# Love Calculator"
   ]
  },
  {
   "cell_type": "markdown",
   "id": "6eb8d17b-a981-473b-b407-4f1395072846",
   "metadata": {},
   "source": [
    "To work out the love score between two people:\n",
    "\n",
    "Take both people's names and check for the number of times the letters in the word TRUE occurs.\n",
    "\n",
    "Then check for the number of times the letters in the word LOVE occurs.\n",
    "\n",
    "Then combine these numbers to make a 2 digit number.\n",
    "\n",
    "For Love Scores less than 10 or greater than 90, the message should be:\n",
    "\n",
    "\"Your score is *x*, you go together like coke and mentos.\"\n",
    "For Love Scores between 40 and 50, the message should be:\n",
    "\n",
    "\"Your score is *y*, you are alright together.\"\n",
    "Otherwise, the message will just be their score. e.g.:\n",
    "\n",
    "\"Your score is *z*.\"\n",
    "\n",
    "This is one of the trust worthy buzzfeed artical."
   ]
  },
  {
   "cell_type": "code",
   "execution_count": 20,
   "id": "59639fb9-2061-4756-8c85-45ca6f4ce6af",
   "metadata": {},
   "outputs": [
    {
     "name": "stdout",
     "output_type": "stream",
     "text": [
      "The Love Calculator is calculating your score...\n"
     ]
    },
    {
     "name": "stdin",
     "output_type": "stream",
     "text": [
      "What is your name? a\n",
      "What is their name? f\n"
     ]
    },
    {
     "name": "stdout",
     "output_type": "stream",
     "text": [
      "Your score is 00, you go together like coke and mentos.\n"
     ]
    }
   ],
   "source": [
    "print(\"The Love Calculator is calculating your score...\")\n",
    "name1 = input('What is your name?') # What is your name?\n",
    "name2 = input('What is their name?') # What is their name?\n",
    "\n",
    "#count TRUE LOVE\n",
    "words= ['True', 'Love']\n",
    "Total=[]\n",
    "\n",
    "for index, word in enumerate(words):\n",
    "  total_count=0\n",
    "  for Letter in word.upper().strip():\n",
    "    total_count +=name1.upper().count(Letter)+name2.upper().count(Letter)\n",
    "  Total.append(total_count)\n",
    "\n",
    "#concise way to concatenate all the elements in the Total list into a single string\n",
    "#For example, if Total is [10, 20, 30], map(str, Total) will produce ['10', '20', '30'], and ''.join(map(str, Total)) will concatenate these strings to form '102030'.\n",
    "Love_Score=''.join(map(str, Total))\n",
    "if int(Love_Score)<10 or int(Love_Score)>90:\n",
    "  print('Your score is '+Love_Score+', you go together like coke and mentos.')\n",
    "elif 40<=int(Love_Score)<=50:\n",
    "  print('Your score is '+Love_Score+', you are alright together.')\n",
    "else:\n",
    "  print('Your score is '+ Love_Score+'.')\n",
    "  "
   ]
  },
  {
   "cell_type": "markdown",
   "id": "211fb0c7-e471-4e78-9982-aba10dc9fe68",
   "metadata": {},
   "source": [
    "# Tip calculator"
   ]
  },
  {
   "cell_type": "code",
   "execution_count": 3,
   "id": "ee163164-ef9f-4109-96d3-26c6d550a957",
   "metadata": {},
   "outputs": [
    {
     "name": "stdout",
     "output_type": "stream",
     "text": [
      "Welcome to the tip calculator\n"
     ]
    },
    {
     "name": "stdin",
     "output_type": "stream",
     "text": [
      "What was the total bill? $ 100\n",
      "How many people to split the bill?  5\n",
      "What percentage of tip would you like to give (10, 12, 15 or Other)?  12\n"
     ]
    },
    {
     "name": "stdout",
     "output_type": "stream",
     "text": [
      "Each person should pay: $22.40\n"
     ]
    }
   ],
   "source": [
    "print('Welcome to the tip calculator')\n",
    "Total_Bill=float(input('What was the total bill? $'))\n",
    "Split_number=float(input('How many people to split the bill? '))\n",
    "Tip_per=float(input('What percentage of tip would you like to give (10, 12, 15 or Other)? '))\n",
    "\n",
    "Bill_Tip=Total_Bill*(Tip_per+100)/100\n",
    "per_person=round(Bill_Tip/Split_number,2)\n",
    "#show two decimal places all the time\n",
    "print(f'Each person should pay: ${\"{:.2f}\".format(per_person)}')# or print('Each person should pay: $',{per_person})"
   ]
  },
  {
   "cell_type": "markdown",
   "id": "e8b0e244-1952-4369-be61-be2bade1b0fe",
   "metadata": {},
   "source": [
    "# HEADS OR TAILS"
   ]
  },
  {
   "cell_type": "code",
   "execution_count": 6,
   "id": "8ea50c07-724b-4e76-aa2f-899deee4bcff",
   "metadata": {},
   "outputs": [
    {
     "name": "stdout",
     "output_type": "stream",
     "text": [
      "Heads\n"
     ]
    }
   ],
   "source": [
    "\n",
    "import random as rand\n",
    "#number list #number=[0, 1] #choose a number randomly #rand_number = rand.choice(number)\n",
    "rand_number=rand.randint(0,1)# genarate a number 0 or 1, if (0,2) means genarate an int between 0,2\n",
    "if rand_number==1:\n",
    "  print('Heads')\n",
    "else:\n",
    "  print('Tails')"
   ]
  },
  {
   "cell_type": "markdown",
   "id": "7d3e037d-5cdd-4c10-a1cc-f9a9e077691d",
   "metadata": {},
   "source": [
    "# BANKER ROULETTE"
   ]
  },
  {
   "cell_type": "code",
   "execution_count": 27,
   "id": "eb94cc4d-c311-44d1-b582-2eb6bce209da",
   "metadata": {},
   "outputs": [
    {
     "name": "stdin",
     "output_type": "stream",
     "text": [
      "type the names seperated by a comma Angela, Ben, Jenny, Michael, Chloe\n"
     ]
    },
    {
     "name": "stdout",
     "output_type": "stream",
     "text": [
      "Angela is going to buy the meal today!\n"
     ]
    }
   ],
   "source": [
    "names_string=input('type the names seperated by a comma')\n",
    "names = names_string.split(\", \")\n",
    "# The code above converts the input into an array seperating\n",
    "#each name in the input by a comma and space.\n",
    "\n",
    "import random as rand\n",
    "rand_number=rand.randint(0,len(names)-1)\n",
    "\n",
    "print(f'{names[rand_number]} is going to buy the meal today!')"
   ]
  },
  {
   "cell_type": "markdown",
   "id": "8ee6f9af-00c9-4685-832f-92c1ad3ee2f1",
   "metadata": {},
   "source": [
    "# TREASURE MAP"
   ]
  },
  {
   "cell_type": "code",
   "execution_count": 111,
   "id": "e2666c4c-edbc-4963-98ac-4b7b85e8f124",
   "metadata": {},
   "outputs": [
    {
     "name": "stdout",
     "output_type": "stream",
     "text": [
      "Hiding your treasure! X marks the spot.\n"
     ]
    },
    {
     "name": "stdin",
     "output_type": "stream",
     "text": [
      " c3\n"
     ]
    },
    {
     "name": "stdout",
     "output_type": "stream",
     "text": [
      "['⬜️', '️⬜️', '️⬜️']\n",
      "['⬜️', '⬜️', '️⬜️']\n",
      "['⬜️️', '⬜️️', 'X']\n"
     ]
    }
   ],
   "source": [
    "line1 = [\"⬜️\",\"️⬜️\",\"️⬜️\"]\n",
    "line2 = [\"⬜️\",\"⬜️\",\"️⬜️\"]\n",
    "line3 = [\"⬜️️\",\"⬜️️\",\"⬜️️\"]\n",
    "map = [line1, line2, line3]\n",
    "print(\"Hiding your treasure! X marks the spot.\")\n",
    "position = input() # Where do you want to put the treasure?\n",
    "\n",
    "split_pos=list(position)\n",
    "split_pos[0]=ord(split_pos[0].upper())-64-1\n",
    "split_pos[1]=int(split_pos[1])-1\n",
    "map[split_pos[1]][split_pos[0]]='X'\n",
    "\n",
    "print(f\"{line1}\\n{line2}\\n{line3}\")"
   ]
  },
  {
   "cell_type": "markdown",
   "id": "c863eba2-430b-41af-abc1-715b756a722c",
   "metadata": {},
   "source": [
    "# Treasure map 2.0"
   ]
  },
  {
   "cell_type": "code",
   "execution_count": 153,
   "id": "ac5da7bd-1404-4ea3-af94-b1141c15bafd",
   "metadata": {},
   "outputs": [
    {
     "name": "stdout",
     "output_type": "stream",
     "text": [
      "Hiding your treasure! X marks the spot.\n"
     ]
    },
    {
     "name": "stdin",
     "output_type": "stream",
     "text": [
      " c5\n"
     ]
    },
    {
     "name": "stdout",
     "output_type": "stream",
     "text": [
      "You typed an invalid number, letter must be A, B or C and number must be 0, 1, 2. You didn't hide the treasure yet!\n",
      "['⬜️', '️⬜️', '️⬜️']\n",
      "['⬜️', '⬜️', '️⬜️']\n",
      "['⬜️️', '⬜️️', '⬜️️']\n"
     ]
    }
   ],
   "source": [
    "line1 = [\"⬜️\",\"️⬜️\",\"️⬜️\"]\n",
    "line2 = [\"⬜️\",\"⬜️\",\"️⬜️\"]\n",
    "line3 = [\"⬜️️\",\"⬜️️\",\"⬜️️\"]\n",
    "map = [line1, line2, line3]\n",
    "print(\"Hiding your treasure! X marks the spot.\")\n",
    "try:\n",
    "    position = input() # Where do you want to put the treasure?\n",
    "    trshr_col = ['A','B','C']\n",
    "\n",
    "    map[int(position[1])-1][trshr_col.index(position[0].upper())]='X'\n",
    "except IndexError:\n",
    "    print(\"You typed an invalid number, letter must be A, B or C and number must be 0, 1, 2. You didn't hide the treasure yet!\") \n",
    "print(f\"{line1}\\n{line2}\\n{line3}\")"
   ]
  },
  {
   "cell_type": "markdown",
   "id": "5e1a6b3f-b140-4ba6-94cf-a49a06808d66",
   "metadata": {},
   "source": [
    "# Treasure Island"
   ]
  },
  {
   "cell_type": "code",
   "execution_count": 62,
   "id": "f3e49655-8342-40ff-b861-59ebc79532a3",
   "metadata": {},
   "outputs": [
    {
     "name": "stdout",
     "output_type": "stream",
     "text": [
      "\n",
      "*******************************************\n",
      "       TTTTTTTTTTTTTTTTTTTTTT  IIIIIIIII\n",
      "    TTT:::::::::::::::::::::T  I::::::::I\n",
      "  TT:::::::::::::::::::::::T  I::::::::I\n",
      " T:::::TT:::::::TT:::::T:::T  II::::::II\n",
      "TTTTTT  T:::::T  TTTTTT  TTTTTT  I::::I  \n",
      "        T:::::T          T:::::T  I::::I  \n",
      "        T:::::T          T:::::T  I::::I  \n",
      "        T:::::T          T:::::T  I::::I  \n",
      "        T:::::T          T:::::T  I::::I  \n",
      "        T:::::T          T:::::T  I::::I  \n",
      "        T:::::T          T:::::T  I::::I  \n",
      "        T:::::T          T:::::T  I::::I  \n",
      "      TT:::::::TT      TT:::::::TTII::::::II\n",
      "      T:::::::::T      T:::::::::TI::::::::I\n",
      "      T:::::::::T      T:::::::::TI::::::::I\n",
      "      TTTTTTTTTTT      TTTTTTTTTTTIIIIIIIIII\n",
      "********************************************\n",
      "\n",
      "Welcome to Treasure Island.\n",
      "\n",
      "You find yourself standing near a crossroad, surrounded by dense forest on all sides. The trees sway gently in the breeze, casting long shadows across the path. \n",
      "Sunlight filters through the leaves, dappling the ground with patches of golden light.\n",
      "\n",
      "As you stand there, you feel a sense of anticipation building within you. You know that the path you choose will lead you on an adventure, full of twists and turns, \n",
      "mysteries and surprises.\n",
      "\n",
      "\n",
      "To your left, a narrow trail winds its way into the heart of the forest, disappearing into the shadows of the trees. It beckons you with the promise of hidden wonders \n",
      "and untold secrets.\n",
      "\n",
      "\n",
      "To your right, the path seems to lead towards a clearing, where sunlight streams down from above. You can hear the faint sound of running water in the distance, \n",
      "hinting at the presence of a nearby stream or river.\n",
      "\n",
      "\n",
      "You pause for a moment, considering your options. Will you venture into the depths of the forest, exploring its hidden depths? Or will you follow the path towards the \n",
      "light, seeking solace in the tranquility of nature?\n",
      "\n",
      "\n",
      "The choice is yours, and yours alone. So, where do you want to go? Left or right?\n"
     ]
    },
    {
     "name": "stdin",
     "output_type": "stream",
     "text": [
      "You're at a crossroad. Where do you want to go? Type \"left\" or \"right\" \n",
      " left\n",
      "You see a mysterious cave entrance. Do you want to explore it? Type \"enter\" to go inside or \"continue\" to keep moving. \n",
      " enter\n",
      "You venture deep into the cave and find three paths: one leading left, one right, and one straight ahead. Which path do you choose? Type 'left', 'right', or 'straight'. \n",
      " left\n"
     ]
    },
    {
     "name": "stdout",
     "output_type": "stream",
     "text": [
      "You stumble upon a hidden treasure chest! You Win!\n"
     ]
    }
   ],
   "source": [
    "print('''\n",
    "*******************************************\n",
    "       TTTTTTTTTTTTTTTTTTTTTT  IIIIIIIII\n",
    "    TTT:::::::::::::::::::::T  I::::::::I\n",
    "  TT:::::::::::::::::::::::T  I::::::::I\n",
    " T:::::TT:::::::TT:::::T:::T  II::::::II\n",
    "TTTTTT  T:::::T  TTTTTT  TTTTTT  I::::I  \n",
    "        T:::::T          T:::::T  I::::I  \n",
    "        T:::::T          T:::::T  I::::I  \n",
    "        T:::::T          T:::::T  I::::I  \n",
    "        T:::::T          T:::::T  I::::I  \n",
    "        T:::::T          T:::::T  I::::I  \n",
    "        T:::::T          T:::::T  I::::I  \n",
    "        T:::::T          T:::::T  I::::I  \n",
    "      TT:::::::TT      TT:::::::TTII::::::II\n",
    "      T:::::::::T      T:::::::::TI::::::::I\n",
    "      T:::::::::T      T:::::::::TI::::::::I\n",
    "      TTTTTTTTTTT      TTTTTTTTTTTIIIIIIIIII\n",
    "********************************************\n",
    "''')\n",
    "print(\"Welcome to Treasure Island.\\n\")\n",
    "print('''You find yourself standing near a crossroad, surrounded by dense forest on all sides. The trees sway gently in the breeze, casting long shadows across the path. \n",
    "Sunlight filters through the leaves, dappling the ground with patches of golden light.\\n\n",
    "As you stand there, you feel a sense of anticipation building within you. You know that the path you choose will lead you on an adventure, full of twists and turns, \n",
    "mysteries and surprises.\\n\n",
    "\n",
    "To your left, a narrow trail winds its way into the heart of the forest, disappearing into the shadows of the trees. It beckons you with the promise of hidden wonders \n",
    "and untold secrets.\\n\n",
    "\n",
    "To your right, the path seems to lead towards a clearing, where sunlight streams down from above. You can hear the faint sound of running water in the distance, \n",
    "hinting at the presence of a nearby stream or river.\\n\n",
    "\n",
    "You pause for a moment, considering your options. Will you venture into the depths of the forest, exploring its hidden depths? Or will you follow the path towards the \n",
    "light, seeking solace in the tranquility of nature?\\n\n",
    "\n",
    "The choice is yours, and yours alone. So, where do you want to go? Left or right?''')\n",
    "\n",
    "\n",
    "\n",
    "choice1 = input('You\\'re at a crossroad. Where do you want to go? Type \"left\" or \"right\" \\n').upper()\n",
    "if choice1 == \"LEFT\":\n",
    "  choice2 = input('You see a mysterious cave entrance. Do you want to explore it? Type \"enter\" to go inside or \"continue\" to keep moving. \\n').upper()\n",
    "  if choice2 == \"ENTER\":\n",
    "    choice3 = input(\"You venture deep into the cave and find three paths: one leading left, one right, and one straight ahead. Which path do you choose? Type 'left', 'right', or 'straight'. \\n\").upper()\n",
    "    if choice3 == \"LEFT\":\n",
    "      print(\"You stumble upon a hidden treasure chest! You Win!\")\n",
    "    elif choice3 == \"RIGHT\":\n",
    "      print(\"You encounter a sleeping dragon. Game Over.\")\n",
    "    elif choice3 == \"STRAIGHT\":\n",
    "      print(\"You walk into a dead end. Game Over.\")\n",
    "    else:\n",
    "      print(\"You're lost in the darkness. Game Over.\")\n",
    "  else:\n",
    "    print(\"You continue your journey and find a magical waterfall. You decide to rest there for a while.\")\n",
    "else:\n",
    "  print(\"You come across a haunted mansion. Game Over.\")\n"
   ]
  },
  {
   "cell_type": "markdown",
   "id": "dc6a4847-e6d5-4509-b6d0-ae988e4172d2",
   "metadata": {},
   "source": [
    "# Rollercoaster ticketing"
   ]
  },
  {
   "cell_type": "code",
   "execution_count": 3,
   "id": "bf59a9d6-238e-4eea-8a4c-792ed2859282",
   "metadata": {},
   "outputs": [
    {
     "name": "stdout",
     "output_type": "stream",
     "text": [
      "Welcome to the rollercoaster!\n"
     ]
    },
    {
     "name": "stdin",
     "output_type": "stream",
     "text": [
      "What is your height in cm?  100\n"
     ]
    },
    {
     "name": "stdout",
     "output_type": "stream",
     "text": [
      "you are not alloawed to ride the rollercoaster due to the height condition :(\n"
     ]
    }
   ],
   "source": [
    "print(\"Welcome to the rollercoaster!\")\n",
    "height = int(input(\"What is your height in cm? \"))\n",
    "if height>120:\n",
    "    print('You can ride the rollercoaster, here is your ticket :)')\n",
    "else:\n",
    "    print('you are not alloawed to ride the rollercoaster due to the height condition :(')"
   ]
  },
  {
   "cell_type": "markdown",
   "id": "eee77829-db32-495c-9824-9117092f50cd",
   "metadata": {},
   "source": [
    "# Rollercoaster ticketing 2.0"
   ]
  },
  {
   "cell_type": "code",
   "execution_count": 11,
   "id": "d90164a8-6c5f-4ee6-8539-011f05b5a65f",
   "metadata": {},
   "outputs": [
    {
     "name": "stdout",
     "output_type": "stream",
     "text": [
      "Welcome to the rollercoaster!\n"
     ]
    },
    {
     "name": "stdin",
     "output_type": "stream",
     "text": [
      "What is your height in cm?  130\n"
     ]
    },
    {
     "name": "stdout",
     "output_type": "stream",
     "text": [
      "You can ride the rollercoaster, here is your ticket :)\n"
     ]
    },
    {
     "name": "stdin",
     "output_type": "stream",
     "text": [
      "What is your age? 12\n"
     ]
    },
    {
     "name": "stdout",
     "output_type": "stream",
     "text": [
      "Your price is $5\n"
     ]
    },
    {
     "name": "stdin",
     "output_type": "stream",
     "text": [
      "Want a photo [Y/N]? y\n"
     ]
    },
    {
     "name": "stdout",
     "output_type": "stream",
     "text": [
      "Your total bill is $ 8\n"
     ]
    }
   ],
   "source": [
    "print(\"Welcome to the rollercoaster!\")\n",
    "height = int(input(\"What is your height in cm? \"))\n",
    "Total=0\n",
    "if height>120:\n",
    "    print('You can ride the rollercoaster, here is your ticket :)')\n",
    "    age = int(input('What is your age?'))\n",
    "    if age <=12:\n",
    "        Total=5\n",
    "        print('Your price is $5')\n",
    "    elif age <=18:\n",
    "        Total=7\n",
    "        print('Your price is $7')\n",
    "    else:\n",
    "        Total=12\n",
    "        print('Your price is $12')\n",
    "    Photo=input('Want a photo [Y/N]?').upper()\n",
    "    if Photo=='Y':\n",
    "        Total +=3\n",
    "    print('Your total bill is $',Total)\n",
    "else:\n",
    "    print('you are not alloawed to ride the rollercoaster due to the height condition :(')"
   ]
  },
  {
   "cell_type": "markdown",
   "id": "d85a315f-0879-4b79-b941-8f88d1614fd9",
   "metadata": {},
   "source": [
    "# Rollercoaster ticketing 3.0"
   ]
  },
  {
   "cell_type": "code",
   "execution_count": 36,
   "id": "0b06b916-b520-49d6-88f8-6bca13b047d0",
   "metadata": {},
   "outputs": [
    {
     "name": "stdout",
     "output_type": "stream",
     "text": [
      "Welcome to the rollercoaster!\n"
     ]
    },
    {
     "name": "stdin",
     "output_type": "stream",
     "text": [
      "Enter number of people! 1\n"
     ]
    },
    {
     "name": "stdout",
     "output_type": "stream",
     "text": [
      "\n",
      "Enter details for person 1:\n"
     ]
    },
    {
     "name": "stdin",
     "output_type": "stream",
     "text": [
      "What are the heights in cm and age?  130\n",
      "What is your age? 50\n",
      "Want a photo [Y/N]? y\n"
     ]
    },
    {
     "name": "stdout",
     "output_type": "stream",
     "text": [
      "\n",
      "Person 1, you can ride the rollercoaster:)\n",
      "--Your price is $12\n",
      "-----your photo price is $3\n",
      "Your total for person 1 is $15\n",
      "\n",
      "Your total bill is $ 15 \n",
      "with total number of people: 1\n"
     ]
    }
   ],
   "source": [
    "print(\"Welcome to the rollercoaster!\")\n",
    "num_people=int(input('Enter number of people!'))\n",
    "people_data=[]\n",
    "for i in range(num_people):\n",
    "    print(f\"\\nEnter details for person {i + 1}:\")\n",
    "    height = int(input(\"What are the heights in cm and age? \"))\n",
    "    age = int(input('What is your age?'))\n",
    "    Photo = input('Want a photo [Y/N]?').upper()\n",
    "    people_data.append((height,age,Photo))\n",
    "    \n",
    "Total=0\n",
    "valid_number_of_oeople=0\n",
    "for i, pdata in enumerate(people_data, 1):# 1 is the starting index\n",
    "    height, age, Photo = pdata\n",
    "    total=0\n",
    "    if height>120:\n",
    "        print(f'\\nPerson {i}, you can ride the rollercoaster:)')\n",
    "        #age = int(input('What is your age?'))\n",
    "        if age <=12:\n",
    "            total =5\n",
    "            print('--Your price is $5')\n",
    "        elif age <=18:\n",
    "            total =7\n",
    "            print('--Your price is $7')\n",
    "        else:\n",
    "            total =12\n",
    "            print('--Your price is $12')\n",
    "        if Photo=='Y':\n",
    "            total +=3\n",
    "            print('-----your photo price is $3')\n",
    "        print(f'Your total for person {i} is ${total}')\n",
    "        Total +=total\n",
    "        valid_number_of_oeople +=1\n",
    "    else:\n",
    "        print(f'\\nPerson {i}, you are not alloawed to ride the rollercoaster due to the height condition :(')\n",
    "        Total +=0\n",
    "\n",
    "print('\\nYour total bill is $',Total,'\\nvalid total number of people:',valid_number_of_oeople)"
   ]
  },
  {
   "cell_type": "markdown",
   "id": "7ec22575-ae85-440c-9df8-b09eeb3c6a48",
   "metadata": {},
   "source": [
    "# Rollercoaster ticketing 4.0"
   ]
  },
  {
   "cell_type": "code",
   "execution_count": 52,
   "id": "e9d4056d-68c7-4695-9380-25d9675fb297",
   "metadata": {},
   "outputs": [
    {
     "name": "stdout",
     "output_type": "stream",
     "text": [
      "Welcome to the rollercoaster!\n"
     ]
    },
    {
     "name": "stdin",
     "output_type": "stream",
     "text": [
      "Enter number of people! 1\n"
     ]
    },
    {
     "name": "stdout",
     "output_type": "stream",
     "text": [
      "\n",
      "Enter details for person 1:\n"
     ]
    },
    {
     "name": "stdin",
     "output_type": "stream",
     "text": [
      "What are the heights in cm and age?  130\n",
      "What is your age? 30\n",
      "Want a photo [Y/N]? y\n"
     ]
    },
    {
     "name": "stdout",
     "output_type": "stream",
     "text": [
      "\n",
      "Person 1, you can ride the rollercoaster:)\n",
      "Adult ticket\n",
      "--Your rider price is $12\n",
      "-----your photo price is $3\n",
      "Your total for person 1 is $15\n",
      "\n",
      "Your total bill is $ 15 \n",
      "valid total number of people: 1\n"
     ]
    }
   ],
   "source": [
    "def compute_rider_price(age,photo):\n",
    "    total = 0\n",
    "    photo_price=0\n",
    "    rider_word=''\n",
    "    if age <= 12:\n",
    "        total = 5\n",
    "        rider_word='Children ticket'\n",
    "    elif age <= 18:\n",
    "        total = 7\n",
    "        rider_word='Youth ticket'\n",
    "    elif age >= 45 and age <= 55:\n",
    "        total = 0 #dont need\n",
    "        rider_word='Everything is going to be ok. Have a free ride on us!'\n",
    "    else:\n",
    "        total = 12\n",
    "        rider_word='Adult ticket'\n",
    "    if photo == 'Y':\n",
    "        #total += 3\n",
    "        photo_price =3\n",
    "\n",
    "    return total,photo_price,rider_word\n",
    "\n",
    "def main():\n",
    "    print(\"Welcome to the rollercoaster!\")\n",
    "    num_people=int(input('Enter number of people!'))\n",
    "    people_data=[]\n",
    "    for i in range(num_people):\n",
    "        print(f\"\\nEnter details for person {i + 1}:\")\n",
    "        height = int(input(\"What are the heights in cm and age? \"))\n",
    "        age = int(input('What is your age?'))\n",
    "        Photo = input('Want a photo [Y/N]?').upper()\n",
    "        people_data.append((height,age,Photo))\n",
    "    \n",
    "    Total=0\n",
    "    valid_number_of_people=0\n",
    "    for i, pdata in enumerate(people_data, 1):# 1 is the starting index\n",
    "        height, age, Photo = pdata\n",
    "        if height>120:\n",
    "            print(f'\\nPerson {i}, you can ride the rollercoaster:)')\n",
    "            rider_price,rider_photo,rider_word=compute_rider_price(age,Photo)\n",
    "            print(rider_word)\n",
    "            print(f'--Your rider price is ${rider_price}')\n",
    "            print(f'-----your photo price is ${rider_photo}')  \n",
    "            print(f'Your total for person {i} is ${rider_price+rider_photo}')\n",
    "            Total +=rider_price+rider_photo\n",
    "            valid_number_of_people +=1\n",
    "        else:\n",
    "            print(f'\\nPerson {i}, you are not alloawed to ride the rollercoaster due to the height condition :(')\n",
    "            Total +=0\n",
    "\n",
    "    print('\\nYour total bill is $',Total,'\\nvalid total number of people:',valid_number_of_people)\n",
    "\n",
    "if __name__ == \"__main__\":\n",
    "    main()\n"
   ]
  },
  {
   "cell_type": "markdown",
   "id": "d7ed4062-91c1-4fb6-9853-795fc005a75a",
   "metadata": {},
   "source": [
    "# Average Height"
   ]
  },
  {
   "cell_type": "markdown",
   "id": "6ea8ec0f-25a5-4d43-a604-19d50995414f",
   "metadata": {},
   "source": [
    "Important: Should not use the sum() or len() functions. Should try to replicate their functionality using what you have learnt about for loops."
   ]
  },
  {
   "cell_type": "code",
   "execution_count": 68,
   "id": "75de1783-d882-4797-bad8-84ecaf4aff06",
   "metadata": {},
   "outputs": [
    {
     "name": "stdin",
     "output_type": "stream",
     "text": [
      " 1 2 3 4 5 6 7 8 9\n"
     ]
    },
    {
     "name": "stdout",
     "output_type": "stream",
     "text": [
      "total height = 45\n",
      "number of students = 9\n",
      "average height = 5\n"
     ]
    }
   ],
   "source": [
    "# Input a Python list of student heights\n",
    "student_heights = input().split()\n",
    "for n in range(0, len(student_heights)):\n",
    "  student_heights[n] = int(student_heights[n])\n",
    "\n",
    "\n",
    "sum_heights=0\n",
    "num_students=0\n",
    "for s_height in student_heights:\n",
    "  sum_heights += s_height\n",
    "  num_students += 1\n",
    "\n",
    "avg_height=round(sum_heights/num_students)\n",
    "avg_height=\"{:.0f}\".format(avg_height)\n",
    "\n",
    "print('total height =',sum_heights)\n",
    "print('number of students =',num_students)\n",
    "print('average height =',avg_height)"
   ]
  },
  {
   "cell_type": "markdown",
   "id": "f302f47f-6d83-4458-a97b-ff78bdf52770",
   "metadata": {},
   "source": [
    "# Average Height 2.0"
   ]
  },
  {
   "cell_type": "code",
   "execution_count": 74,
   "id": "485c0226-d9aa-409b-89ef-a5b6c8d51145",
   "metadata": {},
   "outputs": [
    {
     "name": "stdin",
     "output_type": "stream",
     "text": [
      " 1 2 3 4 5 6 7 8 9\n"
     ]
    },
    {
     "name": "stdout",
     "output_type": "stream",
     "text": [
      "total height = 45\n",
      "number of students = 9\n",
      "average height = 5\n"
     ]
    }
   ],
   "source": [
    "# Input a Python list of student heights\n",
    "def convert_to_int(list_of_str):\n",
    "    for n in range(0, len(list_of_str)):\n",
    "      list_of_str[n] = int(list_of_str[n])\n",
    "    return list_of_str\n",
    "\n",
    "def avg_of_list(list_of_int):\n",
    "    sum_of_list=0\n",
    "    num_of_items=0\n",
    "    for numbers in list_of_int:\n",
    "        sum_of_list += numbers\n",
    "        num_of_items += 1\n",
    "        avg_height=sum_heights/num_students\n",
    "    return avg_height,sum_of_list,num_of_items\n",
    "\n",
    "def main():\n",
    "    student_heights = input().split()\n",
    "    student_heights = convert_to_int(student_heights)\n",
    "    \n",
    "    avg_height,sum_heights,num_students=avg_of_list(student_heights)\n",
    "    \n",
    "    print('total height =',sum_heights)\n",
    "    print('number of students =',num_students)\n",
    "    print('average height =',\"{:.0f}\".format(round(avg_height)))\n",
    "if __name__ == \"__main__\":\n",
    "    main()"
   ]
  },
  {
   "cell_type": "markdown",
   "id": "05dd3d2c-76f3-4cca-aff6-79ad7e8b3a50",
   "metadata": {},
   "source": [
    "# High score"
   ]
  },
  {
   "cell_type": "markdown",
   "id": "79ef124b-b939-4349-bb74-0b39c8230be9",
   "metadata": {},
   "source": [
    "Important: Not allowed to use the max or min functions."
   ]
  },
  {
   "cell_type": "code",
   "execution_count": 69,
   "id": "5bd8e9b9-dc96-4f35-9e62-6a6f0b2d2d0f",
   "metadata": {},
   "outputs": [
    {
     "name": "stdin",
     "output_type": "stream",
     "text": [
      " 1 2 3 4 5 6 7 8 9\n"
     ]
    },
    {
     "name": "stdout",
     "output_type": "stream",
     "text": [
      "The highest score in the class is: 9\n"
     ]
    }
   ],
   "source": [
    "# Input a list of student scores\n",
    "student_scores = input().split()\n",
    "for n in range(0, len(student_scores)):\n",
    "  student_scores[n] = int(student_scores[n])\n",
    "\n",
    "\n",
    "max_mark=0\n",
    "for s_mark in student_scores:\n",
    "  if s_mark>=max_mark:\n",
    "    max_mark=s_mark\n",
    "\n",
    "print('The highest score in the class is:',max_mark)"
   ]
  },
  {
   "cell_type": "markdown",
   "id": "9ce587ec-91a1-4c71-8949-2e480413fb32",
   "metadata": {},
   "source": [
    "# High score 2.0"
   ]
  },
  {
   "cell_type": "code",
   "execution_count": 72,
   "id": "7c144851-a3aa-466f-ab2d-d7878c9c7313",
   "metadata": {},
   "outputs": [
    {
     "name": "stdin",
     "output_type": "stream",
     "text": [
      " 1 2 3 4 5 6 7 8 9\n"
     ]
    },
    {
     "name": "stdout",
     "output_type": "stream",
     "text": [
      "The highest score in the class is: 9\n"
     ]
    }
   ],
   "source": [
    "# Input a list of student scores\n",
    "def convert_to_int(list_of_str):\n",
    "    for n in range(0, len(list_of_str)):\n",
    "      list_of_str[n] = int(list_of_str[n])\n",
    "    return list_of_str\n",
    "\n",
    "def find_max(list_of_numbers):\n",
    "    max_number=0\n",
    "    for number in list_of_numbers:\n",
    "        if number>=max_number:\n",
    "            max_number=number\n",
    "    return max_number\n",
    "\n",
    "\n",
    "def main():\n",
    "    student_scores = input().split()\n",
    "    student_scores = convert_to_int(student_scores)\n",
    "    max_mark=find_max(student_scores)\n",
    "\n",
    "    print('The highest score in the class is:',max_mark)\n",
    "    \n",
    "if __name__ == \"__main__\":\n",
    "    main()\n"
   ]
  },
  {
   "cell_type": "markdown",
   "id": "a9610e7c-502e-4888-bf7e-d0f79474fd3c",
   "metadata": {},
   "source": [
    "# Adding even numbers"
   ]
  },
  {
   "cell_type": "code",
   "execution_count": 97,
   "id": "2d2b101b-99a4-4ccf-a5c5-5bb2605df6e2",
   "metadata": {},
   "outputs": [
    {
     "name": "stdin",
     "output_type": "stream",
     "text": [
      " 1000\n"
     ]
    },
    {
     "name": "stdout",
     "output_type": "stream",
     "text": [
      "250500\n"
     ]
    }
   ],
   "source": [
    "target = int(input()) # Enter a number between 0 and 1000\n",
    "\n",
    "\n",
    "if target<=1000:\n",
    "  sum_of_int=0\n",
    "  for i in range(target+1):\n",
    "    if i % 2 == 0:\n",
    "      sum_of_int +=i\n",
    "  print(sum_of_int)\n",
    "else:\n",
    "    print(\"Number must be less than 1000\")\n",
    "    \n",
    "'''\n",
    "or\n",
    "even_sum = 0\n",
    "for number in range(0, target + 1, 2):\n",
    "  even_sum += number\n",
    "print(even_sum)\n",
    "'''"
   ]
  },
  {
   "cell_type": "markdown",
   "id": "eba8d5e6-3422-4ca5-b04e-eb88ccd4e8c1",
   "metadata": {},
   "source": [
    "# Adding even numbers 2.0"
   ]
  },
  {
   "cell_type": "code",
   "execution_count": 236,
   "id": "91def0ec-82db-473a-9350-3f079e0cb9e9",
   "metadata": {},
   "outputs": [
    {
     "name": "stdin",
     "output_type": "stream",
     "text": [
      "Enter a number between 0 and 1000:  10\n",
      "Enter a number between 0 and 1000:  1\n"
     ]
    },
    {
     "name": "stdout",
     "output_type": "stream",
     "text": [
      "Sum of all the even numbers from 1 to 10 = 30\n"
     ]
    }
   ],
   "source": [
    "target = int(input('Enter a number between 0 and 1000: ')) # Enter a number between 0 and 1000\n",
    "starting = int(input('Enter a number between 0 and 1000: '))\n",
    "try:\n",
    "    if target > 1000:\n",
    "        raise ValueError(\"Number must be less than 1000\")\n",
    "    \n",
    "    sum_of_int = 0\n",
    "    for i in range(starting,target + 1):\n",
    "        if i % 2==0:\n",
    "            sum_of_int += i\n",
    "        \n",
    "\n",
    "    print(f'Sum of all the even numbers from 1 to {target} =', sum_of_int)\n",
    "\n",
    "except ValueError as ve:\n",
    "    print(ve)  \n"
   ]
  },
  {
   "cell_type": "markdown",
   "id": "84c4e71f-a231-46c6-b0e2-13f99b23cdfd",
   "metadata": {},
   "source": [
    "# FIZZBUZZ"
   ]
  },
  {
   "cell_type": "markdown",
   "id": "501e5870-201b-433f-8b22-0731e883fcbe",
   "metadata": {},
   "source": [
    "You are going to write a program that automatically prints the solution to the FizzBuzz game. These are the rules of the FizzBuzz game:\n",
    "\n",
    "Your program should print each number from 1 to 100 in turn and include number 100.\n",
    "\n",
    "When the number is divisible by 3 then instead of printing the number it should print \"Fizz\".\n",
    "\n",
    "When the number is divisible by 5, then instead of printing the number it should print \"Buzz\".`\n",
    "\n",
    "And if the number is divisible by both 3 and 5 e.g. 15 then instead of the number it should print \"FizzBuzz\""
   ]
  },
  {
   "cell_type": "code",
   "execution_count": 106,
   "id": "a6ce6644-92e9-4281-b1f7-650d6c1cfba6",
   "metadata": {},
   "outputs": [
    {
     "name": "stdout",
     "output_type": "stream",
     "text": [
      "Welcome to FizzBuzz games\n",
      "1\n",
      "2\n",
      "Fizz\n",
      "4\n",
      "Buzz\n",
      "Fizz\n",
      "7\n",
      "8\n",
      "Fizz\n",
      "Buzz\n",
      "11\n",
      "Fizz\n",
      "13\n",
      "14\n",
      "FizzBuzz\n",
      "16\n",
      "17\n",
      "Fizz\n",
      "19\n",
      "Buzz\n"
     ]
    }
   ],
   "source": [
    "print('Welcome to FizzBuzz games')\n",
    "end=20\n",
    "for i in range(1,end+1):\n",
    "  if i % 3 ==0 and i % 5 ==0:\n",
    "    print('FizzBuzz')\n",
    "  elif i % 3==0:\n",
    "    print('Fizz')\n",
    "  elif i % 5==0:\n",
    "    print('Buzz')\n",
    "  else:\n",
    "    print(i)"
   ]
  },
  {
   "cell_type": "markdown",
   "id": "c302719b-8938-439b-990e-1c696c68060d",
   "metadata": {},
   "source": [
    "# Rock-paper-scissors"
   ]
  },
  {
   "cell_type": "code",
   "execution_count": 138,
   "id": "cb9b7927-6a09-499e-b9e5-c255102534b9",
   "metadata": {},
   "outputs": [
    {
     "name": "stdin",
     "output_type": "stream",
     "text": [
      "What is your choice? Type 0 for Rock, 1 for Paper or 2 for Scissors.\n",
      " 2\n"
     ]
    },
    {
     "name": "stdout",
     "output_type": "stream",
     "text": [
      "\n",
      "    _______\n",
      "---'   ____)____\n",
      "          ______)\n",
      "       __________)\n",
      "      (____)\n",
      "---.__(___)\n",
      "\n",
      "Computer choose:\n",
      "\n",
      "    _______\n",
      "---'   ____)____\n",
      "          ______)\n",
      "          _______)\n",
      "         _______)\n",
      "---.__________)\n",
      "\n",
      "You win!\n"
     ]
    }
   ],
   "source": [
    "import random as rand\n",
    "\n",
    "rock = '''\n",
    "    _______\n",
    "---'   ____)\n",
    "      (_____)\n",
    "      (_____)\n",
    "      (____)\n",
    "---.__(___)\n",
    "'''\n",
    "\n",
    "paper = '''\n",
    "    _______\n",
    "---'   ____)____\n",
    "          ______)\n",
    "          _______)\n",
    "         _______)\n",
    "---.__________)\n",
    "'''\n",
    "\n",
    "scissors = '''\n",
    "    _______\n",
    "---'   ____)____\n",
    "          ______)\n",
    "       __________)\n",
    "      (____)\n",
    "---.__(___)\n",
    "'''\n",
    "\n",
    "game_codes = [rock, paper, scissors]\n",
    "\n",
    "\n",
    "\n",
    "try:\n",
    "    user_input = int(input(\"What is your choice? Type 0 for Rock, 1 for Paper or 2 for Scissors.\\n\")) \n",
    "    #if user_input >= 3 or user_input < 0: \n",
    "    #    raise IndexError(\"You typed an invalid number, you lose!\")\n",
    "    print(game_codes[user_input])\n",
    "    \n",
    "    computer_input = rand.randint(0, 2)#random integer, if needed float random.random(0,1)\n",
    "    print(\"Computer choose:\")\n",
    "    print(game_codes[computer_input])\n",
    "    \n",
    "    if (user_input == 0 and computer_input == 2) or (user_input == 1 and computer_input == 0) or (user_input == 2 and computer_input == 1):\n",
    "        print(\"You win!\")\n",
    "    elif computer_input == user_input:\n",
    "        print(\"It's a draw\")\n",
    "    else:\n",
    "        print(\"You lose\")\n",
    "\n",
    "except ValueError:\n",
    "    print(\"Invalid input. Please enter a number.\")\n",
    "except IndexError:\n",
    "    print(\"You typed an invalid number, try again typing 0 for Rock, 1 for Paper or 2 for Scissors, you lose!\")  \n",
    "\n"
   ]
  },
  {
   "cell_type": "markdown",
   "id": "56ae4ee8-d0db-4cfc-87b8-c86dbb14cf54",
   "metadata": {},
   "source": [
    "#  Paint area calculator"
   ]
  },
  {
   "cell_type": "code",
   "execution_count": 132,
   "id": "60a0bcc4-74bd-4e75-95f2-d97a436fd702",
   "metadata": {},
   "outputs": [
    {
     "name": "stdin",
     "output_type": "stream",
     "text": [
      " 2\n",
      " 5\n"
     ]
    },
    {
     "name": "stdout",
     "output_type": "stream",
     "text": [
      "You'll need 2 cans of paint.\n"
     ]
    }
   ],
   "source": [
    "import math\n",
    "def paint_calc(height, width, cover):\n",
    "  num_of_cans= \"{:.0f}\".format(math.ceil((height*width)/cover))\n",
    "  return print(f\"You'll need {num_of_cans} cans of paint.\")\n",
    "\n",
    "def main():\n",
    "    test_h = int(input('Height of wall (m)? ')) # Height of wall (m)\n",
    "    test_w = int(input('Width of wall (m)? ')) # Width of wall (m)\n",
    "    coverage = 5\n",
    "    paint_calc(height=test_h, width=test_w, cover=coverage)\n",
    "\n",
    "if __name__ == \"__main__\":\n",
    "    main()"
   ]
  },
  {
   "cell_type": "code",
   "execution_count": 135,
   "id": "81b02c1e-81e5-4bf1-be01-8a1b3248c379",
   "metadata": {},
   "outputs": [
    {
     "name": "stdout",
     "output_type": "stream",
     "text": [
      "2\n",
      "3\n",
      "4\n"
     ]
    }
   ],
   "source": [
    "for i in range(2,5):\n",
    "    print(i)"
   ]
  },
  {
   "cell_type": "markdown",
   "id": "4840f200-ae31-4edc-9fc3-a9ed63f81f96",
   "metadata": {},
   "source": [
    "# Prime numbers"
   ]
  },
  {
   "cell_type": "code",
   "execution_count": 137,
   "id": "4d589a00-a0cf-42ae-b69a-1399885f54a3",
   "metadata": {},
   "outputs": [
    {
     "name": "stdin",
     "output_type": "stream",
     "text": [
      "Type a number to check:  5\n"
     ]
    },
    {
     "name": "stdout",
     "output_type": "stream",
     "text": [
      "It's a prime number.\n"
     ]
    }
   ],
   "source": [
    "def prime_checker(number):\n",
    "  is_prime=True\n",
    "  for i in range(2,number):\n",
    "    if number % i==0:\n",
    "      is_prime=False\n",
    "\n",
    "  if is_prime==False:\n",
    "    print(\"It's not a prime number.\")\n",
    "  else:\n",
    "    print(\"It's a prime number.\")\n",
    "\n",
    "\n",
    "\n",
    "n = int(input(\"Type a number to check: \")) # Check this number\n",
    "prime_checker(number=n)"
   ]
  },
  {
   "cell_type": "markdown",
   "id": "1a3c2ff9-cb24-4d50-bdc4-c6ef7cecf12a",
   "metadata": {},
   "source": [
    "# Password Generator"
   ]
  },
  {
   "cell_type": "code",
   "execution_count": 37,
   "id": "b87be14d-2574-4bfa-af0a-595e494329c5",
   "metadata": {},
   "outputs": [
    {
     "name": "stdout",
     "output_type": "stream",
     "text": [
      "Welcome to the Password Generator!\n",
      "\n"
     ]
    },
    {
     "name": "stdin",
     "output_type": "stream",
     "text": [
      "How many letters would you like in your password?  6\n",
      "How many symbols would you like in your password? 4\n",
      "How many numbers would you like in your password? 5\n"
     ]
    },
    {
     "name": "stdout",
     "output_type": "stream",
     "text": [
      "Your password is:  ?:643GYY,3ZY1M[\n"
     ]
    }
   ],
   "source": [
    "import random as rand\n",
    "import string\n",
    "import pandas as pd\n",
    "\n",
    "def rand_letters(num_letter):\n",
    "    letter_set = []# letter_set = \"\"\n",
    "    for i in range(num_letter):\n",
    "        random_letter=rand.choice(string.ascii_uppercase)\n",
    "        letter_set.append(random_letter)#letter_set +=random_letter\n",
    "    return letter_set\n",
    "    \n",
    "def rand_number(num_numb):\n",
    "    numb_set = []\n",
    "    for i in range(num_numb):\n",
    "        random_number=rand.choice(string.digits)\n",
    "        numb_set.append(random_number)\n",
    "    return numb_set\n",
    "    \n",
    "def rand_symbol(num_symb):\n",
    "    symb_set = []\n",
    "    for i in range(num_symb):\n",
    "        #symbols = \"!@#$%^&*()_-+=<>?\"\n",
    "        random_symbol=rand.choice(string.punctuation)#or rand.choice(symbols)\n",
    "        symb_set.append(random_symbol)\n",
    "    return symb_set\n",
    "\n",
    "def main():\n",
    "    print(\"Welcome to the Password Generator!\\n\")\n",
    "    rand_lett = int(input(\"How many letters would you like in your password? \"))\n",
    "    rand_sym = int(input(\"How many symbols would you like in your password?\"))\n",
    "    rand_numb = int(input(\"How many numbers would you like in your password?\"))\n",
    "\n",
    "    possible_password = (rand_letters(rand_lett)+rand_number(rand_numb)+rand_symbol(rand_sym))#list1.extend(list2) also works\n",
    "    rand.shuffle(possible_password)#if it is a string we can't shuffle\n",
    "    choice_password = ''.join(possible_password)#this is a string\n",
    "    print(\"Your password is: \",choice_password)\n",
    "    \n",
    "    \n",
    "    # Append to Excel file\n",
    "    try:\n",
    "        existing_df = pd.read_excel(\"passwords.xlsx\")\n",
    "    except FileNotFoundError:\n",
    "        existing_df = pd.DataFrame(columns=[\"Password\"])\n",
    "    \n",
    "    new_df = pd.DataFrame({\"Password\": [choice_password]})\n",
    "    updated_df=pd.concat([existing_df,new_df],ignore_index=True)\n",
    "    updated_df.to_excel(\"passwords.xlsx\", index=False)\n",
    "    \n",
    "#ideas: ask before save and add the username and the website as well to the csv file    \n",
    "    \n",
    "if __name__ == \"__main__\":\n",
    "    main()"
   ]
  },
  {
   "cell_type": "markdown",
   "id": "491fdc00-1d66-4689-bda7-647dccb7268e",
   "metadata": {},
   "source": [
    "# Acess the Excel file"
   ]
  },
  {
   "cell_type": "code",
   "execution_count": 38,
   "id": "c6a35bef-fed4-49d8-918c-9019c3ea5b14",
   "metadata": {},
   "outputs": [
    {
     "name": "stdout",
     "output_type": "stream",
     "text": [
      "Excel file updated successfully.\n",
      "          Password\n",
      "0     D996._XWV`5(\n",
      "1     $1B-ZV`4%A94\n",
      "2  ?:643GYY,3ZY1M[\n"
     ]
    }
   ],
   "source": [
    "import pandas as pd\n",
    "\n",
    "excel_file = 'passwords.xlsx'\n",
    "\n",
    "# Read the Excel file into a DataFrame\n",
    "df = pd.read_excel(excel_file)\n",
    "\n",
    "\n",
    "print(\"Excel file updated successfully.\")\n",
    "# Print the DataFrame\n",
    "print(df)"
   ]
  },
  {
   "cell_type": "code",
   "execution_count": null,
   "id": "0c221484-aead-48c5-bdc7-80f490f9a40b",
   "metadata": {},
   "outputs": [],
   "source": [
    "#empty_df = pd.DataFrame(columns=df.columns)\n",
    "\n",
    "#new_data = {'Column1': [value1, value2, value3], 'Column2': [value4, value5, value6]}\n",
    "#new_df = pd.DataFrame(new_data)\n",
    "\n",
    "# Original DataFrame\n",
    "#original_df = pd.DataFrame({'Column1': [1, 2, 3], 'Column2': ['A', 'B', 'C']})\n",
    "\n",
    "# Clearing the data in the existing DataFrame\n",
    "#original_df.drop(original_df.index, inplace=True)\n",
    "\n",
    "\n",
    "#df = pd.concat([df, new_df], ignore_index=True)\n",
    "#empty_df.to_excel(\"passwords.xlsx\", index=False)\n",
    "\n",
    "#df.to_excel(excel_file_path, index=False)\n",
    "\n",
    "# Create a sample DataFrame\n",
    "#df = pd.read_excel(excel_file)#df = pd.DataFrame({'A': [1, 2, 3], 'B': ['a', 'b', 'c']})\n",
    "\n",
    "# Drop rows by index (0-based index)\n",
    "#df.drop([0, 1], inplace=True)  # Drop rows with index 0 and 1\n",
    "\n",
    "# Drop columns by label\n",
    "#df.drop(columns=['B'], inplace=True)  # Drop column 'B'\n",
    "\n",
    "# Drop rows based on a condition\n",
    "#df = df[df['A'] > 1]  # Drop rows where the value in column 'A' is less than or equal to 1\n"
   ]
  },
  {
   "cell_type": "code",
   "execution_count": null,
   "id": "5137b38a-9123-4dc8-87fb-c4488e5a3350",
   "metadata": {},
   "outputs": [],
   "source": [
    "#%debug"
   ]
  },
  {
   "cell_type": "code",
   "execution_count": null,
   "id": "ce158665-582d-47e5-8c7f-7dbaeed9dafe",
   "metadata": {},
   "outputs": [],
   "source": [
    "# check R version\n",
    "#R.Version()$version.string"
   ]
  },
  {
   "cell_type": "code",
   "execution_count": 5,
   "id": "0d7ec356-5dd0-4390-bffa-bcd21df3b6e4",
   "metadata": {},
   "outputs": [
    {
     "name": "stdout",
     "output_type": "stream",
     "text": [
      "Python 3.10.9\n"
     ]
    }
   ],
   "source": [
    "# check Python version\n",
    "!python -V"
   ]
  },
  {
   "cell_type": "code",
   "execution_count": null,
   "id": "43b440c5-aff4-401e-b7be-1b9b5faac7e1",
   "metadata": {},
   "outputs": [],
   "source": [
    "'''\n",
    "a=0\n",
    "while a<=5:# while not ... is the nagation of while. eg: while not at_goal means while at_goal == False/ if needed to check the status print(at_goal)\n",
    "    print(\"Canada\")\n",
    "    a +=1\n",
    "'''"
   ]
  },
  {
   "cell_type": "code",
   "execution_count": null,
   "id": "225cc456-24f8-4f59-9449-ec12239a320c",
   "metadata": {},
   "outputs": [],
   "source": []
  },
  {
   "cell_type": "code",
   "execution_count": 23,
   "id": "08ad0b85-3cd8-45e5-9bd1-0a5194e8cfd4",
   "metadata": {},
   "outputs": [
    {
     "name": "stdout",
     "output_type": "stream",
     "text": [
      "Overwriting hangman_arts.py\n"
     ]
    }
   ],
   "source": [
    "%%writefile hangman_arts.py\n",
    "\n",
    "stages = ['''\n",
    "  +---+\n",
    "  |   |\n",
    "  O   |\n",
    " /|\\  |\n",
    " / \\  |\n",
    "      |\n",
    "=========\n",
    "''', '''\n",
    "  +---+\n",
    "  |   |\n",
    "  O   |\n",
    " /|\\  |\n",
    " /    |\n",
    "      |\n",
    "=========\n",
    "''', '''\n",
    "  +---+\n",
    "  |   |\n",
    "  O   |\n",
    " /|\\  |\n",
    "      |\n",
    "      |\n",
    "=========\n",
    "''', '''\n",
    "  +---+\n",
    "  |   |\n",
    "  O   |\n",
    " /|   |\n",
    "      |\n",
    "      |\n",
    "=========''', '''\n",
    "  +---+\n",
    "  |   |\n",
    "  O   |\n",
    "  |   |\n",
    "      |\n",
    "      |\n",
    "=========\n",
    "''', '''\n",
    "  +---+\n",
    "  |   |\n",
    "  O   |\n",
    "      |\n",
    "      |\n",
    "      |\n",
    "=========\n",
    "''', '''\n",
    "  +---+\n",
    "  |   |\n",
    "      |\n",
    "      |\n",
    "      |\n",
    "      |\n",
    "=========\n",
    "''']\n",
    "\n",
    "logo = ''' \n",
    " _                                             \n",
    "| |                                            \n",
    "| |__   __ _ _ __   __ _ _ __ ___   __ _ _ __  \n",
    "| '_ \\ / _` | '_ \\ / _` | '_ ` _ \\ / _` | '_ \\ \n",
    "| | | | (_| | | | | (_| | | | | | | (_| | | | |\n",
    "|_| |_|\\__,_|_| |_|\\__, |_| |_| |_|\\__,_|_| |_|\n",
    "                    __/ |                      \n",
    "                   |___/    '''\n"
   ]
  },
  {
   "cell_type": "code",
   "execution_count": 35,
   "id": "dcdfc583-365f-4905-ae65-4aeed4145d0e",
   "metadata": {},
   "outputs": [],
   "source": [
    "#pip install nltk"
   ]
  },
  {
   "cell_type": "code",
   "execution_count": 34,
   "id": "4c8d7b13-e546-4d65-8a4c-62a4f8e68b27",
   "metadata": {},
   "outputs": [],
   "source": [
    "#pip install replit"
   ]
  },
  {
   "cell_type": "code",
   "execution_count": 33,
   "id": "f9282c73-9052-485a-9e4f-fa452da85a8a",
   "metadata": {},
   "outputs": [],
   "source": [
    "#pip install --user package_name"
   ]
  },
  {
   "cell_type": "code",
   "execution_count": 60,
   "id": "e3aff84f-17d7-4285-bd7f-3908c3e93ab5",
   "metadata": {},
   "outputs": [
    {
     "name": "stdout",
     "output_type": "stream",
     "text": [
      "Writing hangman_words.py\n"
     ]
    }
   ],
   "source": [
    "%%writefile hangman_words.py\n",
    "import nltk\n",
    "nltk.download('words')\n",
    "\n",
    "from nltk.corpus import words\n",
    "\n",
    "# Get the list of English words\n",
    "english_word_list = words.words()\n",
    "\n",
    "# Print the first 10 words as an example\n",
    "#print(english_words[:10])"
   ]
  },
  {
   "cell_type": "code",
   "execution_count": 49,
   "id": "9d9f364b-1882-4c5d-9175-3fcc2251fe44",
   "metadata": {},
   "outputs": [
    {
     "name": "stdout",
     "output_type": "stream",
     "text": [
      "\n",
      "The guess k was wrong, try again!\n",
      "\n",
      "  +---+\n",
      "  |   |\n",
      "  O   |\n",
      " /|\\  |\n",
      " / \\  |\n",
      "      |\n",
      "=========\n",
      "\n",
      "\n",
      "Sorry, you lost a life.\n",
      "Word to be gussed was:  glossopathy\n",
      "\n",
      "Lives remaining: 0\n",
      "Win status: no\n",
      "Incorrect guesses: ['u', 'i', 'w', 'n', 'm', 'k']\n",
      "Word gussed upto now is:  _ _ o _ _ o _ _ _ _ y\n"
     ]
    }
   ],
   "source": [
    "#from replit import clear\n",
    "#import os\n",
    "from IPython.display import clear_output\n",
    "import random as rand\n",
    "from hangman_arts import logo,stages\n",
    "from hangman_words import english_word_list\n",
    "#word_list = [\"Cat\", \"Apple\", \"Walmart\"]# change this to a bigger word list by importing later\n",
    "# Clear the console screen\n",
    "random_word=rand.choice(english_word_list).lower()\n",
    "random_word_length = len(random_word)\n",
    "print(logo)\n",
    "print(random_word)#clear this\n",
    "print('Word length is: ',random_word_length)# may be keep this\n",
    "lives=6\n",
    "win_game = False\n",
    "#display = []\n",
    "#for _ in range(random_word_length):\n",
    "#    display +='_'\n",
    "display = ['_'] * len(random_word)\n",
    "print(f\"{' '.join(display)}\")\n",
    "print('you have 6 lives')\n",
    "non_correct_letters = []\n",
    "\n",
    "\n",
    "\n",
    "\n",
    "while (lives != 0) and (win_game == False):#or not win_game(ctrl+] indent)\n",
    "\n",
    "        guess = input(\"Guess a letter: \").lower()\n",
    "        \n",
    "        #os.system('cls')#this is to clear previous\n",
    "        #os.system('cls' if os.name == 'nt' else 'clear')#clear console\n",
    "        if guess in display:\n",
    "            print(f'\\nyou already gussed the letter {guess}, guess another one')\n",
    "\n",
    "        if guess in non_correct_letters:\n",
    "            print(f'\\nyou already gussed the letter {guess} which is not correct, guess another one')\n",
    "\n",
    "        elif guess in random_word:\n",
    "            for index, letter in enumerate(random_word):\n",
    "                if letter == guess:\n",
    "                    display[index]=letter\n",
    "                    if '_' not in display:\n",
    "                        print('\\nCongratulations you won!')\n",
    "                        win_game = True\n",
    "        elif guess not in random_word:\n",
    "            clear_output(wait=True)\n",
    "            print(f'\\nThe guess {guess} was wrong, try again!')\n",
    "            non_correct_letters.append(guess)\n",
    "            lives -= 1\n",
    "            print(stages[lives])\n",
    "            if lives == 0:\n",
    "                print('\\nSorry, you lost a life.')\n",
    "                print('Word to be gussed was: ', random_word)\n",
    "\n",
    "        # Print the updated display, lives, and win_game status\n",
    "        #print(' '.join(display))\n",
    "        print(f'\\nLives remaining: {lives}')\n",
    "        print(f'Win status: {\"yes\" if win_game else \"no\"}')\n",
    "        print(\"Incorrect guesses:\", non_correct_letters)\n",
    "        print('Word gussed upto now is: ',f\"{' '.join(display)}\")\n",
    "        #print(lives)\n",
    "        #print(win_game)"
   ]
  },
  {
   "cell_type": "markdown",
   "id": "957ca3b9-8397-4ab6-83a7-c45182aa94b4",
   "metadata": {},
   "source": [
    "# caesar-cipher"
   ]
  },
  {
   "cell_type": "code",
   "execution_count": 8,
   "id": "958f5056-3d86-45d9-ad28-bf8f73abb172",
   "metadata": {},
   "outputs": [
    {
     "name": "stdout",
     "output_type": "stream",
     "text": [
      "Writing caesar_cipher_arts.py\n"
     ]
    }
   ],
   "source": [
    "%%writefile caesar_cipher_arts.py\n",
    "logo = \"\"\"           \n",
    " ,adPPYba, ,adPPYYba,  ,adPPYba, ,adPPYba, ,adPPYYba, 8b,dPPYba,  \n",
    "a8\"     \"\" \"\"     `Y8 a8P_____88 I8[    \"\" \"\"     `Y8 88P'   \"Y8  \n",
    "8b         ,adPPPPP88 8PP\"\"\"\"\"\"\"  `\"Y8ba,  ,adPPPPP88 88          \n",
    "\"8a,   ,aa 88,    ,88 \"8b,   ,aa aa    ]8I 88,    ,88 88          \n",
    " `\"Ybbd8\"' `\"8bbdP\"Y8  `\"Ybbd8\"' `\"YbbdP\"' `\"8bbdP\"Y8 88   \n",
    "            88             88                                 \n",
    "           \"\"             88                                 \n",
    "                          88                                 \n",
    " ,adPPYba, 88 8b,dPPYba,  88,dPPYba,   ,adPPYba, 8b,dPPYba,  \n",
    "a8\"     \"\" 88 88P'    \"8a 88P'    \"8a a8P_____88 88P'   \"Y8  \n",
    "8b         88 88       d8 88       88 8PP\"\"\"\"\"\"\" 88          \n",
    "\"8a,   ,aa 88 88b,   ,a8\" 88       88 \"8b,   ,aa 88          \n",
    " `\"Ybbd8\"' 88 88`YbbdP\"'  88       88  `\"Ybbd8\"' 88          \n",
    "              88                                             \n",
    "              88           \n",
    "\"\"\""
   ]
  },
  {
   "cell_type": "code",
   "execution_count": 52,
   "id": "fd9b7679-1a09-49ff-b0bf-b5f7aa205ac5",
   "metadata": {},
   "outputs": [
    {
     "name": "stdin",
     "output_type": "stream",
     "text": [
      "Type 'encrypt' to encode, or 'decrypt' to decode:  decrypt\n",
      "Type the script for decrypt:  fho\n",
      "Auto or Manual?  Auto\n"
     ]
    },
    {
     "name": "stdout",
     "output_type": "stream",
     "text": [
      "best shift: 7 - Best Decrypted Text: yah\n"
     ]
    },
    {
     "name": "stdin",
     "output_type": "stream",
     "text": [
      "Do you want to see all the posibilities? (yes or no):  yes\n"
     ]
    },
    {
     "name": "stdout",
     "output_type": "stream",
     "text": [
      "Other text:  [(0, 'fho'), (1, 'egn'), (2, 'dfm'), (3, 'cel'), (4, 'bdk'), (5, 'acj'), (6, 'zbi'), (7, 'yah'), (8, 'xzg'), (9, 'wyf'), (10, 'vxe'), (11, 'uwd'), (12, 'tvc'), (13, 'sub'), (14, 'rta'), (15, 'qsz'), (16, 'pry'), (17, 'oqx'), (18, 'npw'), (19, 'mov'), (20, 'lnu'), (21, 'kmt'), (22, 'jls'), (23, 'ikr'), (24, 'hjq'), (25, 'gip')]\n"
     ]
    },
    {
     "name": "stdin",
     "output_type": "stream",
     "text": [
      "Do you want to continue?  no\n"
     ]
    }
   ],
   "source": [
    "from caesar_cipher_arts import logo\n",
    "from IPython.display import clear_output\n",
    "from caesar_cipher import encrypt_caesar_cipher,decrypt_caesar_cipher,Decrypt_caesar_cipher_automation #if caesar_cipher is a python script\n",
    "print(logo)\n",
    "#%run caesar_cipher.ipynb#if we want to use as a jupiter note book and just run the whole note book\n",
    "def main():\n",
    "    cont_scrpt= 'yes'\n",
    "    while cont_scrpt=='yes':\n",
    "        encript_decript=input(\"Type 'encrypt' to encode, or 'decrypt' to decode: \").lower()\n",
    "\n",
    "        try:\n",
    "            if encript_decript == 'encrypt':\n",
    "                plain_text=input(\"Type the script for encrypt: \")\n",
    "                shift=int(input(\"what if the shift? :\"))\n",
    "                encrypted_text=encrypt_caesar_cipher(plain_text, shift)\n",
    "                print(\"Encrypted Text:\", encrypted_text)\n",
    "            elif encript_decript == 'decrypt':\n",
    "                plain_text=input(\"Type the script for decrypt: \")\n",
    "                aut_man=input('Auto or Manual? ').lower()\n",
    "                if aut_man=='auto':\n",
    "                    best_shift,all_dec_text=Decrypt_caesar_cipher_automation(plain_text)\n",
    "                    print(\"best shift:\",best_shift, \"- Best Decrypted Text:\", decrypt_caesar_cipher(plain_text,best_shift))\n",
    "                    yes_or_no=input(\"Do you want to see all the posibilities? (yes or no): \").lower()\n",
    "                    if yes_or_no=='yes':\n",
    "                        print('Other text: ',all_dec_text)\n",
    "                if aut_man=='manual':\n",
    "                    shift=int(input(\"what if the shift? :\"))\n",
    "                    decrypted_text=decrypt_caesar_cipher(plain_text,shift)\n",
    "                    print(\"Decrypted Text:\", decrypted_text)\n",
    "            else:\n",
    "                raise ValueError(\"Invalid input. Please type 'encrypt' or 'decrypt'.\")\n",
    "        except ValueError as ve:\n",
    "            print(ve)\n",
    "        cont_scrpt=input('Do you want to continue? ').lower()#if cont_scrpt=no should_cts=Falase\n",
    "        if cont_scrpt=='yes':\n",
    "            clear_output(wait=True)\n",
    "if __name__ == \"__main__\":\n",
    "    main()"
   ]
  },
  {
   "cell_type": "code",
   "execution_count": 51,
   "id": "807e709a-0539-4803-a054-40f0fc195d1e",
   "metadata": {},
   "outputs": [],
   "source": [
    "#this print the current dirr\n",
    "#import os\n",
    "#print(os.getcwd())"
   ]
  },
  {
   "cell_type": "markdown",
   "id": "a3634e32-c8f1-40ab-81f5-9c4946004631",
   "metadata": {},
   "source": [
    "# Grading Program"
   ]
  },
  {
   "cell_type": "code",
   "execution_count": 26,
   "id": "2ced8560-fc31-49ec-8fee-6de778878f67",
   "metadata": {},
   "outputs": [
    {
     "name": "stdout",
     "output_type": "stream",
     "text": [
      "{'Harry': 'Exceeds Expectations', 'Ron': 'Acceptable', 'Hermione': 'Outstanding', 'Draco': 'Acceptable', 'Neville': 'Fail'}\n"
     ]
    }
   ],
   "source": [
    "student_scores = {\n",
    "  \"Harry\": 81,\n",
    "  \"Ron\": 78,\n",
    "  \"Hermione\": 99, \n",
    "  \"Draco\": 74,\n",
    "  \"Neville\": 62,\n",
    "}\n",
    "\n",
    "student_grades={}\n",
    "\n",
    "\n",
    "for key, value in student_scores.items():\n",
    "    if value in range(91,101):\n",
    "      letter_grade=\"Outstanding\"\n",
    "    elif value in range(81,91):\n",
    "      letter_grade=\"Exceeds Expectations\"\n",
    "    elif value in range(71,81):\n",
    "      letter_grade=\"Acceptable\"\n",
    "    else:\n",
    "      letter_grade=\"Fail\"\n",
    "    student_grades.update({key:letter_grade})\n",
    "\n",
    "\n",
    "\n",
    "print(student_grades)"
   ]
  },
  {
   "cell_type": "markdown",
   "id": "de9c90ba-4da5-4ac8-9572-d34a3bc9d71f",
   "metadata": {},
   "source": [
    "# Dictionary in list"
   ]
  },
  {
   "cell_type": "code",
   "execution_count": null,
   "id": "4109efaa-236a-4ccb-ac91-a85a929170d5",
   "metadata": {},
   "outputs": [],
   "source": [
    "country = input() # Add country name\n",
    "visits = int(input()) # Number of visits\n",
    "list_of_cities = eval(input()) # create list from formatted string\n",
    "\n",
    "travel_log = [\n",
    "  {\n",
    "    \"country\": \"France\",\n",
    "    \"visits\": 12,\n",
    "    \"cities\": [\"Paris\", \"Lille\", \"Dijon\"]\n",
    "  },\n",
    "  {\n",
    "    \"country\": \"Germany\",\n",
    "    \"visits\": 5,\n",
    "    \"cities\": [\"Berlin\", \"Hamburg\", \"Stuttgart\"]\n",
    "  },\n",
    "]\n",
    "\n",
    "\n",
    "# function that will allow new countries\n",
    "# to be added to the travel_log. \n",
    "def add_new_country(country, visits, list_of_cities):\n",
    "  new_dict={\n",
    "      \"country\":country,\n",
    "      \"visits\":visits,\n",
    "      \"cities\":list_of_cities\n",
    "      }\n",
    "  travel_log.append(new_dict)\n",
    "\n",
    "\n",
    "add_new_country(country, visits, list_of_cities)\n",
    "print(f\"I've been to {travel_log[2]['country']} {travel_log[2]['visits']} times.\")\n",
    "print(f\"My favourite city was {travel_log[2]['cities'][0]}.\")"
   ]
  },
  {
   "cell_type": "markdown",
   "id": "64797735-33cb-4f1d-a31f-5702c7221c72",
   "metadata": {},
   "source": [
    "# Blind Auction"
   ]
  },
  {
   "cell_type": "code",
   "execution_count": 50,
   "id": "9bc92a17-f4a8-44ba-9060-ea6040d39f94",
   "metadata": {},
   "outputs": [
    {
     "name": "stdout",
     "output_type": "stream",
     "text": [
      "Writing blind_auction_arts.py\n"
     ]
    }
   ],
   "source": [
    "%%writefile blind_auction_arts.py\n",
    "logo = '''\n",
    "                         ___________\n",
    "                         \\         /\n",
    "                          )_______(\n",
    "                          |\"\"\"\"\"\"\"|_.-._,.---------.,_.-._\n",
    "                          |       | | |               | | ''-.\n",
    "                          |       |_| |_             _| |_..-'\n",
    "                          |_______| '-' `'---------'` '-'\n",
    "                          )\"\"\"\"\"\"\"(\n",
    "                         /_________\\\\\n",
    "                       .-------------.\n",
    "                      /_______________\\\\\n",
    "'''"
   ]
  },
  {
   "cell_type": "code",
   "execution_count": 1,
   "id": "5e5efba1-9b32-4278-8e33-b1c9f9cb61a1",
   "metadata": {},
   "outputs": [
    {
     "name": "stdin",
     "output_type": "stream",
     "text": [
      "What is your name?: will\n",
      "What's your bid?: 78\n",
      "Are there any other bidders? no\n"
     ]
    },
    {
     "name": "stdout",
     "output_type": "stream",
     "text": [
      "max bidder is will, with a max bid of $78\n",
      "   name  amount($)\n",
      "0   sub         56\n",
      "1   nad         67\n",
      "2  will         78\n"
     ]
    }
   ],
   "source": [
    "import pandas as pd\n",
    "from IPython.display import clear_output\n",
    "from blind_auction_arts import logo\n",
    "\n",
    "print(logo)\n",
    "print('Welcome to the secret auction program.')\n",
    "bid_dict=[]#can use a dictionary as well and change new_dict to bid_dict.update(new_dict) then use max_key = max(my_dict,key=my_dict.get)\n",
    "\n",
    "bid_cnt='yes'\n",
    "while bid_cnt=='yes':\n",
    "    bid_name= input(\"What is your name?:\")\n",
    "    bid_amnt= int(input(\"What's your bid?:\"))\n",
    "    new_dict={'name':bid_name,'amount($)':bid_amnt}\n",
    "    bid_dict.append(new_dict)\n",
    "    bid_cnt= input(\"Are there any other bidders?\").lower()\n",
    "    if bid_cnt=='yes':\n",
    "        clear_output(wait=False)\n",
    "    \n",
    "max_bid = max(bid_dict, key=lambda x: x['amount($)']) # use max()['amount'] for get max amount directly\n",
    "print(f\"max bidder is {max_bid['name']}, with a max bid of ${max_bid['amount($)']}\")\n",
    "# Convert list of dictionaries to DataFrame\n",
    "df_bid = pd.DataFrame(bid_dict)#to find max max_index = df['column_name'].idxmax() and value = df[df['amount'] == 'max_index']. value['name']\n",
    "print(df_bid)"
   ]
  },
  {
   "cell_type": "code",
   "execution_count": 12,
   "id": "5af2eabd-69fc-4753-a04b-73d000646fc0",
   "metadata": {},
   "outputs": [],
   "source": [
    "#max_index=df_bid['amount($)'].idxmax()\n",
    "#df_bid.iloc[max_index]['name']\n",
    "# Assuming df_bid is your DataFrame\n",
    "#max_index = df_bid['amount($)'].idxmax()\n",
    "\n",
    "# Getting the value in the 'name' column corresponding to the max_index\n",
    "#max_name = df_bid.loc[max_index, 'name']\n",
    "\n",
    "# Printing the max name and its corresponding value\n",
    "#print(\"Max Name:\", max_name)\n",
    "#print(\"Max Value:\", df_bid.loc[max_index, 'amount($)'])"
   ]
  },
  {
   "cell_type": "code",
   "execution_count": null,
   "id": "2da67309-c8e1-45a5-af13-bd84ff06cb5c",
   "metadata": {},
   "outputs": [],
   "source": []
  },
  {
   "cell_type": "code",
   "execution_count": 13,
   "id": "67e0e710-c0a5-4d71-a20c-314d6bc3b4a2",
   "metadata": {},
   "outputs": [
    {
     "data": {
      "text/plain": [
       "'c'"
      ]
     },
     "execution_count": 13,
     "metadata": {},
     "output_type": "execute_result"
    }
   ],
   "source": [
    "my_dict = {'a': 10, 'b': 20, 'c': 30, 'd': 15}\n",
    "\n",
    "# Find the key with the maximum value\n",
    "max_key = max(my_dict,key=my_dict.get)\n",
    "max_key"
   ]
  },
  {
   "cell_type": "code",
   "execution_count": 18,
   "id": "6a16d67f-242d-41fd-b3a0-4fab7dad8e70",
   "metadata": {},
   "outputs": [
    {
     "data": {
      "text/plain": [
       "{'a': 10, 'b': 20, 'c': 30, 'd': 15, 'e': 2}"
      ]
     },
     "execution_count": 18,
     "metadata": {},
     "output_type": "execute_result"
    }
   ],
   "source": [
    "my_dict['e']= 2\n",
    "my_dict"
   ]
  },
  {
   "cell_type": "code",
   "execution_count": 21,
   "id": "dedcd283-171b-462e-ac5e-7713c449de1b",
   "metadata": {},
   "outputs": [
    {
     "data": {
      "text/plain": [
       "{'a': 10, 'b': 20, 'c': 30, 'd': 15, 'e': 2, 'f': 10, 'g': 20}"
      ]
     },
     "execution_count": 21,
     "metadata": {},
     "output_type": "execute_result"
    }
   ],
   "source": [
    "new_dict= {'f': 10, 'g': 20}\n",
    "my_dict.update(new_dict)\n",
    "my_dict"
   ]
  },
  {
   "cell_type": "code",
   "execution_count": 23,
   "id": "f9155cab-1c19-4e3e-8284-a0342711b5ab",
   "metadata": {},
   "outputs": [
    {
     "name": "stdout",
     "output_type": "stream",
     "text": [
      "Harry 81\n",
      "Ron 78\n",
      "Hermione 99\n",
      "Draco 74\n",
      "Neville 62\n"
     ]
    }
   ],
   "source": [
    "student_scores = {\n",
    "  \"Harry\": 81,\n",
    "  \"Ron\": 78,\n",
    "  \"Hermione\": 99, \n",
    "  \"Draco\": 74,\n",
    "  \"Neville\": 62,\n",
    "}\n",
    "for key, value in student_scores.items():\n",
    "    print(key, value)"
   ]
  },
  {
   "cell_type": "code",
   "execution_count": 25,
   "id": "fc22e4bf-93b7-4b3a-94ce-53b1ac466a66",
   "metadata": {},
   "outputs": [
    {
     "name": "stdout",
     "output_type": "stream",
     "text": [
      "range(91, 100)\n"
     ]
    }
   ],
   "source": [
    "print(range(91,100)"
   ]
  },
  {
   "cell_type": "code",
   "execution_count": null,
   "id": "798e5b55-cb44-46ee-bd63-cf784b80db28",
   "metadata": {},
   "outputs": [],
   "source": []
  }
 ],
 "metadata": {
  "kernelspec": {
   "display_name": "Python 3 (ipykernel)",
   "language": "python",
   "name": "python3"
  },
  "language_info": {
   "codemirror_mode": {
    "name": "ipython",
    "version": 3
   },
   "file_extension": ".py",
   "mimetype": "text/x-python",
   "name": "python",
   "nbconvert_exporter": "python",
   "pygments_lexer": "ipython3",
   "version": "3.10.9"
  }
 },
 "nbformat": 4,
 "nbformat_minor": 5
}
